{
 "cells": [
  {
   "attachments": {},
   "cell_type": "markdown",
   "metadata": {},
   "source": [
    "# Homework\n",
    "\n",
    "- toc: false\n",
    "- badges: true\n",
    "- comments: true\n",
    "- author: Calissa"
   ]
  },
  {
   "attachments": {},
   "cell_type": "markdown",
   "metadata": {},
   "source": [
    "# Merge Sort Hacks"
   ]
  },
  {
   "cell_type": "code",
   "execution_count": 24,
   "metadata": {
    "vscode": {
     "languageId": "java"
    }
   },
   "outputs": [
    {
     "name": "stdout",
     "output_type": "stream",
     "text": [
      "Given Array:\n",
      "Cow Dog Bird Sheep Goat Pig Quail Crow \n",
      "Sorted Array:\n",
      "Bird Cow Crow Dog Goat Pig Quail Sheep "
     ]
    }
   ],
   "source": [
    "//Sorts strings in alphabetical order\n",
    "\n",
    "class MergeSort {\n",
    "\n",
    "    void merge(String arr[], int l, int m, int r)\n",
    "        {\n",
    "            // Find the sizes of two subarrays to be merged\n",
    "            int n1 = m - l + 1;\n",
    "            int n2 = r - m;\n",
    "\n",
    "            /* Create temp arrays */\n",
    "            String[] L = new String[n1];\n",
    "            String[] R = new String[n2];\n",
    "\n",
    "            /* Copy data to temp arrays */\n",
    "            for (int i = 0; i < n1; ++i)\n",
    "                L[i] = arr[l + i];\n",
    "            for (int j = 0; j < n2; ++j)\n",
    "                R[j] = arr[m + 1 + j];\n",
    "\n",
    "            /* Merge the temp arrays */\n",
    "\n",
    "            // Initial indexes of first and second subarrays\n",
    "            int i = 0, j = 0;\n",
    "\n",
    "            // Initial index of merged subarray array\n",
    "            int k = l;\n",
    "            while (i < n1 && j < n2) {\n",
    "                if (L[i].compareTo(R[j]) > 0) {\n",
    "                    arr[k] = R[j];\n",
    "                    j++;\n",
    "                }\n",
    "                else {\n",
    "                    arr[k] = L[i];\n",
    "                    i++;\n",
    "                }\n",
    "                k++;\n",
    "            }\n",
    "\n",
    "            /* Copy remaining elements of L[] if any */\n",
    "            while (i < n1) {\n",
    "                arr[k] = L[i];\n",
    "                i++;\n",
    "                k++;\n",
    "            }\n",
    "\n",
    "            /* Copy remaining elements of R[] if any */\n",
    "            while (j < n2) {\n",
    "                arr[k] = R[j];\n",
    "                j++;\n",
    "                k++;\n",
    "            }\n",
    "        }\n",
    "    \n",
    "    void sort(String arr[], int l, int r)\n",
    "    {\n",
    "        if (l < r) {\n",
    "            // Find the middle point\n",
    "            int m = l + (r - l) / 2;\n",
    " \n",
    "            // Sort first and second halves\n",
    "            sort(arr, l, m);\n",
    "            sort(arr, m + 1, r);\n",
    " \n",
    "            // Merge the sorted halves\n",
    "            merge(arr, l, m, r);\n",
    "        }\n",
    "    }\n",
    " \n",
    "    static void print(String arr[])\n",
    "    {\n",
    "        for (String word : arr){\n",
    "            System.out.print(word + \" \");\n",
    "        }\n",
    "    }\n",
    "\n",
    "    //tester method\n",
    "    public static void main(String args[])\n",
    "        {\n",
    "            String[] arr = new String[]{\"Cow\", \"Dog\", \"Bird\", \"Sheep\", \"Goat\", \"Pig\", \"Quail\", \"Crow\" };\n",
    "    \n",
    "            System.out.println(\"Given Array:\");\n",
    "            print(arr);\n",
    "    \n",
    "            MergeSort ob = new MergeSort();\n",
    "            ob.sort(arr, 0, arr.length - 1);\n",
    "    \n",
    "            System.out.println(\"\\nSorted Array:\");\n",
    "            print(arr);\n",
    "        }\n",
    "}\n",
    "\n",
    "MergeSort.main(null);"
   ]
  }
 ],
 "metadata": {
  "kernelspec": {
   "display_name": "Java",
   "language": "java",
   "name": "java"
  },
  "language_info": {
   "codemirror_mode": "java",
   "file_extension": ".jshell",
   "mimetype": "text/x-java-source",
   "name": "Java",
   "pygments_lexer": "java",
   "version": "17.0.5+0"
  },
  "orig_nbformat": 4
 },
 "nbformat": 4,
 "nbformat_minor": 2
}
