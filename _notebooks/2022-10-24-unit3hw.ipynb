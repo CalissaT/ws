{
 "cells": [
  {
   "cell_type": "markdown",
   "metadata": {},
   "source": [
    "# Unit 3 HW\n",
    "\n",
    "- toc: false\n",
    "- badges: true\n",
    "- comments: true\n",
    "- author: Calissa\n",
    "- categories: [java]\n",
    "- \n",
    "\n",
    "java notebook"
   ]
  },
  {
   "cell_type": "code",
   "execution_count": 3,
   "metadata": {
    "vscode": {
     "languageId": "java"
    }
   },
   "outputs": [
    {
     "name": "stdout",
     "output_type": "stream",
     "text": [
      "Input a: Input b: Input c: The roots are -0.20871215252208009 and -4.7912878474779195\n"
     ]
    }
   ],
   "source": [
    "// #2\n",
    "import java.util.Scanner;\n",
    "public class quadratic {\n",
    "\n",
    "    \n",
    "  public static void main(String[] Strings) {\n",
    "\n",
    "        Scanner sc = new Scanner(System.in);\n",
    "\n",
    "            System.out.print(\"Input a: \");\n",
    "            double a = sc.nextDouble();\n",
    "            System.out.print(\"Input b: \");\n",
    "            double b = sc.nextDouble();\n",
    "            System.out.print(\"Input c: \");\n",
    "            double c = sc.nextDouble();\n",
    "\n",
    "            double result = b * b - 4.0 * a * c;\n",
    "\n",
    "            if (result > 0.0) {\n",
    "                double r1 = (-b + Math.pow(result, 0.5)) / (2.0 * a);\n",
    "                double r2 = (-b - Math.pow(result, 0.5)) / (2.0 * a);\n",
    "                System.out.println(\"The roots are \" + r1 + \" and \" + r2);\n",
    "            } else if (result == 0.0) {\n",
    "                double r1 = -b / (2.0 * a);\n",
    "                System.out.println(\"The root is \" + r1);\n",
    "            } else {\n",
    "                System.out.println(\"The equation has no real roots.\");\n",
    "            }\n",
    "\n",
    "    }\n",
    "}\n",
    "\n",
    "quadratic.main(null);"
   ]
  },
  {
   "cell_type": "code",
   "execution_count": 6,
   "metadata": {
    "vscode": {
     "languageId": "java"
    }
   },
   "outputs": [
    {
     "name": "stdout",
     "output_type": "stream",
     "text": [
      "Pick your number...\n",
      "Positive number\n"
     ]
    }
   ],
   "source": [
    "// #4\n",
    "\n",
    "import java.util.Scanner;\n",
    "\n",
    "public class evenOdd {\n",
    "    public static void main(String[] args){\n",
    "        \n",
    "        Scanner sc = new Scanner(System.in);\n",
    "        System.out.println(\"Pick your number...\");\n",
    "        double input = sc.nextDouble();\n",
    "\n",
    "        if (input > 0)\n",
    "        {\n",
    "            if (input < 1)\n",
    "            {\n",
    "                System.out.println(\"Positive small number\");\n",
    "            }\n",
    "            else if (input > 1000000)\n",
    "            {\n",
    "                System.out.println(\"Positive large number\");\n",
    "            }\n",
    "            else\n",
    "            {\n",
    "                System.out.println(\"Positive number\");\n",
    "            }\n",
    "        }\n",
    "        else if (input < 0)\n",
    "        {\n",
    "            if (Math.abs(input) < 1)\n",
    "            {\n",
    "                System.out.println(\"Negative small number\");\n",
    "            }\n",
    "            else if (Math.abs(input) > 1000000)\n",
    "            {\n",
    "                System.out.println(\"Negative large number\");\n",
    "            }\n",
    "            else\n",
    "            {\n",
    "                System.out.println(\"Negative number\");\n",
    "            }\n",
    "        }\n",
    "        else\n",
    "        {\n",
    "            System.out.println(\"Zero\");\n",
    "        }\n",
    "\n",
    "    }\n",
    "}\n",
    "\n",
    "evenOdd.main(null);"
   ]
  },
  {
   "cell_type": "code",
   "execution_count": 7,
   "metadata": {
    "vscode": {
     "languageId": "java"
    }
   },
   "outputs": [
    {
     "name": "stdout",
     "output_type": "stream",
     "text": [
      "Input floating-point number: Input floating-point another number: They are different\n"
     ]
    }
   ],
   "source": [
    "// #6\n",
    "\n",
    "import java.util.Scanner;\n",
    "public class decimals {\n",
    "\n",
    "    \n",
    "  public static void main(String[] args)\n",
    "    {\n",
    "        Scanner sc = new Scanner(System.in);\n",
    "\n",
    "        System.out.println(\"Input floating-point number: \");\n",
    "        double x = sc.nextDouble();\n",
    "        System.out.println(\"Input floating-point another number: \");\n",
    "        double y = sc.nextDouble();\n",
    "\n",
    "        x = Math.round(x * 1000);\n",
    "        x = x / 1000;\n",
    "\n",
    "        y = Math.round(y * 1000);\n",
    "        y = y / 1000;\n",
    "\n",
    "        if (x == y)\n",
    "        {\n",
    "            System.out.println(\"They are the same up to three decimal places\");\n",
    "        }\n",
    "        else\n",
    "        {\n",
    "            System.out.println(\"They are different\");\n",
    "        }\n",
    "    }\n",
    "}\n",
    "\n",
    "decimals.main(null);"
   ]
  },
  {
   "cell_type": "code",
   "execution_count": 11,
   "metadata": {
    "vscode": {
     "languageId": "java"
    }
   },
   "outputs": [
    {
     "name": "stdout",
     "output_type": "stream",
     "text": [
      "Input an alphabet: d is consonant\n"
     ]
    }
   ],
   "source": [
    "// #8\n",
    "import java.util.Scanner;\n",
    "public class vowelConsonant {\n",
    "\n",
    "    \n",
    "  public static void main(String[] args)\n",
    "    {\n",
    "        Scanner sc = new Scanner(System.in);\n",
    "\n",
    "        System.out.print(\"Input an alphabet: \");\n",
    "        String input = sc.next().toLowerCase();\n",
    "\n",
    "        boolean uppercase = input.charAt(0) >= 65 && input.charAt(0) <= 90;\n",
    "        boolean lowercase = input.charAt(0) >= 97 && input.charAt(0) <= 122;\n",
    "        boolean vowels = input.equals(\"a\") || input.equals(\"e\") || input.equals(\"i\")\n",
    "                || input.equals(\"o\") || input.equals(\"u\");\n",
    "\n",
    "        if (input.length() > 1)\n",
    "        {\n",
    "            System.out.println(\"Please enter a single character.\");\n",
    "        }\n",
    "        else if (!(uppercase || lowercase))\n",
    "        {\n",
    "            System.out.println(\"That's not a letter. Enter uppercase or lowercase letter.\");\n",
    "        }\n",
    "        else if (vowels)\n",
    "        {\n",
    "            System.out.println(input + \"is vowel\");\n",
    "        }\n",
    "        else\n",
    "        {\n",
    "            System.out.println(input + \" is consonant\");\n",
    "        }\n",
    "    }\n",
    "}\n",
    "\n",
    "vowelConsonant.main(null);"
   ]
  },
  {
   "cell_type": "code",
   "execution_count": 18,
   "metadata": {
    "vscode": {
     "languageId": "java"
    }
   },
   "outputs": [
    {
     "name": "stdout",
     "output_type": "stream",
     "text": [
      "The first 10 natural numbers are: 1, 2, 3, 4, 5, 6, 7, 8, 9, 10, "
     ]
    }
   ],
   "source": [
    "// #10\n",
    "public class naturalNumbers {\n",
    "    \n",
    "    public static void main(String[] args)\n",
    "      {     \n",
    "      int i;\n",
    "      System.out.print(\"The first 10 natural numbers are: \");\n",
    "      for (i=1; i<=10; i++)\n",
    "      {      \n",
    "          System.out.print(i + \", \");\n",
    "      }\n",
    "  }\n",
    "  }\n",
    "\n",
    "naturalNumbers.main(null);  "
   ]
  },
  {
   "cell_type": "code",
   "execution_count": 20,
   "metadata": {
    "vscode": {
     "languageId": "java"
    }
   },
   "outputs": [
    {
     "name": "stdout",
     "output_type": "stream",
     "text": [
      "Input 5 numbers \n",
      "The sum of those numbers is: 16\n",
      "The Average is: 3.0\n"
     ]
    }
   ],
   "source": [
    "// #12\n",
    "\n",
    "import java.util.Scanner;\n",
    "public class average {\n",
    "\n",
    "    \n",
    "  public static void main(String[] args)\n",
    "\n",
    "{       \n",
    "    int i,n=0,s=0;\n",
    "\tdouble avg;\n",
    "\t{\n",
    "\t   \n",
    "        System.out.println(\"Input 5 numbers \");  \n",
    "         \n",
    "\t}\n",
    "\t\tfor (i=0;i<5;i++)\n",
    "\t\t{\n",
    "\t\t    Scanner sc = new Scanner(System.in);\n",
    "\t\t    n = sc.nextInt();\n",
    "\t\t    \n",
    "  \t\ts +=n;\n",
    "\t}\n",
    "\tavg=s/5;\n",
    "\tSystem.out.println(\"The sum of those numbers is: \" +s+\"\\nThe Average is: \" +avg);\n",
    " \n",
    "}\n",
    "}\n",
    "\n",
    "average.main(null);"
   ]
  },
  {
   "cell_type": "code",
   "execution_count": 23,
   "metadata": {
    "vscode": {
     "languageId": "java"
    }
   },
   "outputs": [
    {
     "name": "stdout",
     "output_type": "stream",
     "text": [
      "Input the numberInput number of terms : \n",
      "\n",
      "4 X 0 = 0\n",
      "4 X 1 = 4\n",
      "4 X 2 = 8\n",
      "4 X 3 = 12\n",
      "4 X 4 = 16\n"
     ]
    }
   ],
   "source": [
    "// #14\n",
    "import java.util.Scanner;\n",
    "public class multiplicationTable {\n",
    "\n",
    "   public static void main(String[] args)\n",
    "\n",
    "{\n",
    "   int j,n;\n",
    "\n",
    "   System.out.print(\"Input the number\");\n",
    "{\n",
    "   System.out.print(\"Input number of terms : \");\n",
    "    Scanner sc = new Scanner(System.in);\n",
    "\t\t    n = sc.nextInt();\n",
    "\n",
    "   System.out.println (\"\\n\");\n",
    "   for(j=0; j<=n; j++)\n",
    "  \n",
    "     System.out.println(n+\" X \"+j+\" = \" +n*j);\n",
    "   }\n",
    "}\n",
    "}\n",
    "\n",
    "multiplicationTable.main(null);"
   ]
  },
  {
   "cell_type": "code",
   "execution_count": 28,
   "metadata": {
    "vscode": {
     "languageId": "java"
    }
   },
   "outputs": [
    {
     "name": "stdout",
     "output_type": "stream",
     "text": [
      "Input number of rows\n",
      "*\n",
      "**\n",
      "***\n"
     ]
    }
   ],
   "source": [
    "// #16\n",
    "\n",
    "import java.util.Scanner;\n",
    "public class triangle {\n",
    "\n",
    "   public static void main(String[] args)\n",
    "\n",
    "{\n",
    "   int i,j,n;\n",
    "   System.out.println(\"Input number of rows\");\n",
    "    Scanner sc = new Scanner(System.in);\n",
    "\t\t    n = sc.nextInt();\n",
    "\n",
    "   for(i=1; i<=n; i++)\n",
    "   {\n",
    "\tfor(j=1; j<=i; j++)\n",
    "\t  System.out.print(\"*\");\n",
    "\n",
    "    System.out.println(\"\");\n",
    "    }\n",
    "}\n",
    "}\n",
    "triangle.main(null);"
   ]
  },
  {
   "cell_type": "code",
   "execution_count": 32,
   "metadata": {
    "vscode": {
     "languageId": "java"
    }
   },
   "outputs": [
    {
     "name": "stdout",
     "output_type": "stream",
     "text": [
      "Input number of rows\n",
      "1 \n",
      "2 3 \n",
      "4 5 6 \n"
     ]
    }
   ],
   "source": [
    "// #18\n",
    "\n",
    "import java.util.Scanner;\n",
    "public class patternTriangle {\n",
    "\n",
    "  public static void main(String[] args)\n",
    "\n",
    "{\n",
    "   \t\tint i,j,n,k=1;\n",
    "\n",
    "   \t\tSystem.out.println(\"Input number of rows\");\n",
    "\n",
    "   \t\tScanner sc = new Scanner(System.in);\n",
    "\t\t    n = sc.nextInt();\n",
    "\n",
    "   \t\tfor(i=1;i<=n;i++)\n",
    "   \t\t{\n",
    "\t\tfor(j=1; j<=i; j++)\n",
    "\t   \tSystem.out.print(k++ + \" \");\n",
    "\t   \tSystem.out.println(\"\");\n",
    "\t   \t}  \t\t\n",
    "\t}\n",
    "\t}\n",
    "\n",
    "patternTriangle.main(null);    "
   ]
  },
  {
   "cell_type": "code",
   "execution_count": 34,
   "metadata": {
    "vscode": {
     "languageId": "java"
    }
   },
   "outputs": [
    {
     "name": "stdout",
     "output_type": "stream",
     "text": [
      "Input number of rows\n",
      "1 \n",
      "2 3 \n",
      "4 5 6 \n",
      "7 8 9 10 \n"
     ]
    }
   ],
   "source": [
    "// #20\n",
    "\n",
    "import java.util.Scanner;\n",
    "public class floydTriangle {\n",
    "\n",
    "    public static void main(String[] args)\n",
    " {\n",
    "      int numberOfRows;\n",
    "      System.out.println(\"Input number of rows\");\n",
    "      Scanner sc = new Scanner(System.in);\n",
    "      numberOfRows = sc.nextInt();\n",
    "      int number = 1;\n",
    "      \n",
    "      for (int row = 1; row <= numberOfRows; row++)\n",
    "        {\n",
    "      for (int column = 1; column <= row; column++)\n",
    "        {\n",
    "          System.out.print(number + \" \");\n",
    "          number++;\n",
    "        }\n",
    "        System.out.println();\n",
    "        }\n",
    "  }\n",
    "}\n",
    "\n",
    "floydTriangle.main(null);"
   ]
  }
 ],
 "metadata": {
  "kernelspec": {
   "display_name": "Java",
   "language": "java",
   "name": "java"
  },
  "language_info": {
   "codemirror_mode": "java",
   "file_extension": ".jshell",
   "mimetype": "text/x-java-source",
   "name": "Java",
   "pygments_lexer": "java",
   "version": "11.0.16.1+0"
  },
  "orig_nbformat": 4,
  "vscode": {
   "interpreter": {
    "hash": "b0fa6594d8f4cbf19f97940f81e996739fb7646882a419484c72d19e05852a7e"
   }
  }
 },
 "nbformat": 4,
 "nbformat_minor": 2
}
