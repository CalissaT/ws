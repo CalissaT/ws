{
 "cells": [
  {
   "cell_type": "markdown",
   "metadata": {},
   "source": [
    "# Java Conditionals\n",
    "\n",
    "- toc: false\n",
    "- badges: true\n",
    "- comments: true\n",
    "- author: Calissa\n",
    "- categories: [java, labs]\n",
    "- image: images/conditionals.jpeg\n",
    "\n",
    "java notebook"
   ]
  },
  {
   "cell_type": "markdown",
   "metadata": {},
   "source": [
    "### If-Else Statements\n",
    "\n",
    "If-Else statements are conditional statements that determine which section of code to run."
   ]
  },
  {
   "cell_type": "code",
   "execution_count": 2,
   "metadata": {},
   "outputs": [
    {
     "name": "stdout",
     "output_type": "stream",
     "text": [
      "X is greater than 4\n"
     ]
    }
   ],
   "source": [
    "/*\n",
    " Example 1:\n",
    " If condition is not true, else is executed\n",
    " */\n",
    "\n",
    "int x = 5; // variable x\n",
    "if (x<4){ // the line of code within the if statement will not be executed as x is not less than 4\n",
    "    System.out.println(\"X is less than 4\");\n",
    "}\n",
    "else { // the line of code within the else statement is executed because first condition is not true\n",
    "    System.out.println(\"X is greater than 4\");\n",
    "}"
   ]
  },
  {
   "cell_type": "code",
   "execution_count": 3,
   "metadata": {},
   "outputs": [
    {
     "name": "stdout",
     "output_type": "stream",
     "text": [
      "X is less than 4\n"
     ]
    }
   ],
   "source": [
    "/*\n",
    " Example 2:\n",
    " If condition is true, else is not executed\n",
    " */\n",
    "\n",
    "int x = 3; // variable x\n",
    "if (x<4){ // the line of code within the if statement will be executed as x is less than 4\n",
    "    System.out.println(\"X is less than 4\");\n",
    "}\n",
    "else { // the line of code within the else statement is not executed because first condition is true\n",
    "    System.out.println(\"X is greater than 4\");\n",
    "}"
   ]
  },
  {
   "cell_type": "markdown",
   "metadata": {},
   "source": [
    "### If-Elseif-Else Statements\n",
    "\n",
    "If-Elseif-Else statements are another conditional statement, this time with 3 different code segments to execute from. Both the if and elseif need a condition, while the else does not. "
   ]
  },
  {
   "cell_type": "code",
   "execution_count": 5,
   "metadata": {},
   "outputs": [
    {
     "name": "stdout",
     "output_type": "stream",
     "text": [
      "X is equal to 2\n"
     ]
    }
   ],
   "source": [
    "/*\n",
    " Example 3:\n",
    "If condition false, else if condition true. Else if code is executed\n",
    " */\n",
    "\n",
    "int x = 2; // variable x\n",
    "if (x<4 && x>3 ){ // the line of code within the if statement will not be executed, as x is not between 3 and 4\n",
    "    System.out.println(\"X is less than 4\");\n",
    "}\n",
    "else if (x == 2){ // the line of code within the else if statement is executed as x is equal to 2\n",
    "    System.out.println(\"X is equal to 2\");\n",
    "}\n",
    "else { // the line of code within the else statement is not executed because the previous condition is true\n",
    "    System.out.println(\"X is greater than 4\");\n",
    "}"
   ]
  },
  {
   "cell_type": "markdown",
   "metadata": {},
   "source": [
    "### Switch-case\n",
    "\n",
    "There are many ways to write code. In the case of conditionals, a switch case can be used to replace a if-elseif-else statement. In a switch statement, one of many code blocks will be executed."
   ]
  },
  {
   "cell_type": "code",
   "execution_count": 20,
   "metadata": {},
   "outputs": [
    {
     "name": "stdout",
     "output_type": "stream",
     "text": [
      "Gouda originated in the Netherlands\n"
     ]
    }
   ],
   "source": [
    "// this is an if-else-else statement\n",
    "String cheese = \"Gouda\";\n",
    "if (cheese == \"Cheddar\"){ // tests if cheese = cheddar\n",
    "    System.out.println(\"Cheddar originated in Somerset\");\n",
    "}\n",
    "else if (cheese == \"Gouda\"){ // tests if cheese = gouda\n",
    "    System.out.println(\"Gouda originated in the Netherlands\");\n",
    "}\n",
    "else if (cheese == \"Milk\"){ // tests if cheese = milk\n",
    "    System.out.println(\"Milk is made from cows, goats, and other mammals\");\n",
    "}\n",
    "else if (cheese == \"Cheese\"){ // tests if cheese = cheese\n",
    "    System.out.println(\"Cheese is very yummy\");\n",
    "}\n",
    "else{ // if cheese is none of these\n",
    "    System.out.println(\"Sorry, I don't have any information about \" + cheese);\n",
    "}"
   ]
  },
  {
   "cell_type": "code",
   "execution_count": 17,
   "metadata": {},
   "outputs": [
    {
     "name": "stdout",
     "output_type": "stream",
     "text": [
      "Gouda originated in the Netherlands\n"
     ]
    }
   ],
   "source": [
    "//the statement above can also be written like:\n",
    "String cheese = \"Gouda\";\n",
    "switch(cheese) {\n",
    "    case \"Cheddar\": // tests if cheese = cheddar\n",
    "        System.out.println(\"Cheddar originated in Somerset\");\n",
    "        break;\n",
    "    case \"Gouda\": // tests if cheese = gouda\n",
    "        System.out.println(\"Gouda originated in the Netherlands\");\n",
    "        break;\n",
    "    case \"Milk\": // tests if cheese = milk\n",
    "        System.out.println(\"Milk is made from cows, goats, and other mammals\");\n",
    "        break;\n",
    "    case \"Cheese\": // tests if cheese = cheese\n",
    "        System.out.println(\"Cheese is very yummy\");\n",
    "    default: // if cheese is none of these\n",
    "        System.out.println(\"Sorry, I don't have any information about \" + cheese);   \n",
    "}\n",
    "\n"
   ]
  },
  {
   "cell_type": "markdown",
   "metadata": {},
   "source": [
    "### De Morgan's Law\n",
    "\n",
    "De Morgan's Law illustrates how compound boolean expressions are read. It helps you simplify code and your logic operators."
   ]
  },
  {
   "cell_type": "code",
   "execution_count": 20,
   "metadata": {},
   "outputs": [
    {
     "name": "stdout",
     "output_type": "stream",
     "text": [
      "!(true && false) is true\n"
     ]
    }
   ],
   "source": [
    "boolean a = true;\n",
    "boolean b = false;\n",
    "\n",
    "if (!(a && b)){\n",
    "    System.out.println(\"!(true && false) is true\");\n",
    "}\n",
    "else {\n",
    "    System.out.println(\"!(true && false) is false\");\n",
    "}"
   ]
  }
 ],
 "metadata": {
  "kernelspec": {
   "display_name": "Java",
   "language": "java",
   "name": "java"
  },
  "language_info": {
   "codemirror_mode": "java",
   "file_extension": ".jshell",
   "mimetype": "text/x-java-source",
   "name": "java",
   "pygments_lexer": "java",
   "version": "11.0.16.1+0"
  },
  "orig_nbformat": 4
 },
 "nbformat": 4,
 "nbformat_minor": 2
}
