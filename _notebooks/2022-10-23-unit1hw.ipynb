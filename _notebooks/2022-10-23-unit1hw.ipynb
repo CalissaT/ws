{
 "cells": [
  {
   "cell_type": "markdown",
   "metadata": {},
   "source": [
    "# Unit 1 HW\n",
    "\n",
    "- toc: false\n",
    "- badges: true\n",
    "- comments: true\n",
    "- author: Calissa\n",
    "- categories: [java]\n",
    "- image: images/collegeboard.jpeg\n",
    "\n",
    "java notebook"
   ]
  },
  {
   "cell_type": "code",
   "execution_count": 1,
   "metadata": {},
   "outputs": [
    {
     "name": "stdout",
     "output_type": "stream",
     "text": [
      "Is your final in in its own category? (true/false)\n",
      "What is your current grade?\n",
      "What percentage is the final?\n",
      "What grade do you want in the class?\n",
      "You need a 129.99995%\n"
     ]
    }
   ],
   "source": [
    "import java.util.Scanner;\n",
    "\n",
    "public class gradeCalculator {\n",
    "\n",
    "    public static void main(String[] args){\n",
    "\n",
    "        Scanner sc = new Scanner(System.in);\n",
    "        System.out.println(\"Is your final in in its own category? (true/false)\");\n",
    "        boolean testCategory = sc.nextBoolean(); \n",
    "\n",
    "        if (testCategory = true){\n",
    "            //current grade\n",
    "            System.out.println(\"What is your current grade?\");  \n",
    "            float currentGrade = sc.nextInt();\n",
    "            currentGrade /= 100; \n",
    "            //percentage of final\n",
    "            System.out.println(\"What percentage is the final?\"); \n",
    "            float percentOfGrade = sc.nextInt();\n",
    "            percentOfGrade /= 100; \n",
    "            //desired grade\n",
    "            System.out.println(\"What grade do you want in the class?\");\n",
    "            float desiredGrade = sc.nextInt();\n",
    "            desiredGrade /= 100;\n",
    "            //grade needed calculation \n",
    "            float gradeNeeded = ((desiredGrade - ((1 - percentOfGrade)* currentGrade)) / percentOfGrade) * 100;\n",
    "            System.out.println(\"You need a \" + gradeNeeded + \"%\");\n",
    "        } \n",
    "        else {\n",
    "            /* \n",
    "            //current grade\n",
    "            System.out.println(\"What is your current grade?\");  \n",
    "            float currentGrade2 = sc.nextInt();\n",
    "            currentGrade2 /= 100; \n",
    "            //percentage of grade in test category\n",
    "            System.out.println(\"What percentage of your grade is the test category?\"); \n",
    "            float testCategory2 = sc.nextInt();\n",
    "            testCategory2 /= 100; \n",
    "            //what is their percentage in test category\n",
    "            System.out.println(\"What is your percentage in the test category?\");\n",
    "            float percentInTest = sc.nextInt();\n",
    "            percentInTest /= 100;\n",
    "            //how many points are in test category\n",
    "            System.out.println(\"How many points is in the test category?\");\n",
    "            float pointsInTest = sc.nextInt();\n",
    "            //how many points are in test category\n",
    "            System.out.println(\"How many points is your final?\");\n",
    "            float pointsInFinal = sc.nextInt();\n",
    "            System.out.println(\"What grade do you want in the class?\");\n",
    "            float desiredGrade = sc.nextInt();\n",
    "            desiredGrade /= 100;\n",
    "\n",
    "            //I have no clue how to calculate this and I'm too lazy to figure it out\n",
    "            */\n",
    "            \n",
    "            System.out.println(\"You need a score\");\n",
    "        }  \n",
    "\n",
    "\n",
    "    }\n",
    "    \n",
    "\n",
    "}\n",
    "\n",
    "gradeCalculator.main(null);"
   ]
  }
 ],
 "metadata": {
  "kernelspec": {
   "display_name": "Java",
   "language": "java",
   "name": "java"
  },
  "language_info": {
   "codemirror_mode": "java",
   "file_extension": ".jshell",
   "mimetype": "text/x-java-source",
   "name": "java",
   "pygments_lexer": "java",
   "version": "11.0.16.1+0"
  },
  "orig_nbformat": 4
 },
 "nbformat": 4,
 "nbformat_minor": 2
}
