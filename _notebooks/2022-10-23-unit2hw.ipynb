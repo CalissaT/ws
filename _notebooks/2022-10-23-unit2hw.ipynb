{
 "cells": [
  {
   "cell_type": "markdown",
   "metadata": {},
   "source": [
    "# Unit 2 HW\n",
    "\n",
    "- toc: false\n",
    "- badges: true\n",
    "- comments: true\n",
    "- author: Calissa\n",
    "- categories: [java]\n",
    "\n",
    "java notebook"
   ]
  },
  {
   "cell_type": "code",
   "execution_count": 3,
   "metadata": {},
   "outputs": [
    {
     "ename": "CompilationException",
     "evalue": "",
     "output_type": "error",
     "traceback": [
      "\u001b[1m\u001b[30m|   \u001b[1m\u001b[30m        for (int i = 0; i<= \u001b[0m\u001b[1m\u001b[30m\u001b[41msecret.length\u001b[0m\u001b[1m\u001b[30m - length; i+=1){\u001b[0m",
      "\u001b[1m\u001b[31mcannot find symbol\u001b[0m",
      "\u001b[1m\u001b[31m  symbol:   variable length\u001b[0m",
      "",
      "\u001b[1m\u001b[30m|   \u001b[1m\u001b[30m     public int scoreGuess (String guess)\u001b[0m\u001b[1m\u001b[30m\u001b[41m{\u001b[0m",
      "\u001b[1m\u001b[30m|   \u001b[1m\u001b[30m\u001b[41m        int value = 0;\u001b[0m",
      "\u001b[1m\u001b[30m|   \u001b[1m\u001b[30m\u001b[41m        int length = guess.length();\u001b[0m",
      "\u001b[1m\u001b[30m|   \u001b[1m\u001b[30m\u001b[41m        for (int i = 0; i<= secret.length - length; i+=1){\u001b[0m",
      "\u001b[1m\u001b[30m|   \u001b[1m\u001b[30m\u001b[41m            String a = secret.substring(i, i+length);\u001b[0m",
      "\u001b[1m\u001b[30m|   \u001b[1m\u001b[30m\u001b[41m            if (a.equals(guess)){\u001b[0m",
      "\u001b[1m\u001b[30m|   \u001b[1m\u001b[30m\u001b[41m                value++;\u001b[0m",
      "\u001b[1m\u001b[30m|   \u001b[1m\u001b[30m\u001b[41m            }\u001b[0m",
      "\u001b[1m\u001b[30m|   \u001b[1m\u001b[30m\u001b[41m            return value*length*length;\u001b[0m",
      "\u001b[1m\u001b[30m|   \u001b[1m\u001b[30m\u001b[41m        }\u001b[0m",
      "\u001b[1m\u001b[30m|   \u001b[1m\u001b[30m\u001b[41m     }\u001b[0m",
      "\u001b[1m\u001b[31mmissing return statement\u001b[0m",
      "",
      "\u001b[1m\u001b[30m|   \u001b[1m\u001b[30m     public String findBetterGuess(String guess1, String guess2)\u001b[0m\u001b[1m\u001b[30m\u001b[41m{\u001b[0m",
      "\u001b[1m\u001b[30m|   \u001b[1m\u001b[30m\u001b[41m        /* to be implemented in part (b) */\u001b[0m",
      "\u001b[1m\u001b[30m|   \u001b[1m\u001b[30m\u001b[41m     }\u001b[0m",
      "\u001b[1m\u001b[31mmissing return statement\u001b[0m",
      ""
     ]
    }
   ],
   "source": [
    "public class WordMatch\n",
    "{\n",
    "    /* The secret string */\n",
    "    private String secret;\n",
    "\n",
    "    /* Constructs a WordMatch object with the given secret string of lowercase letters */\n",
    "    public WordMatch (String word){\n",
    "        /* implementation not shown */\n",
    "    }\n",
    "\n",
    "    /* Returns a score for guess, as describe in part (a)\n",
    "     * Precondition: 0 < guess.length() <= secret.length()\n",
    "     */\n",
    "\n",
    "     public int scoreGuess (String guess){\n",
    "        int value = 0;\n",
    "        int length = guess.length();\n",
    "        for (int i = 0; i<= secret.length - length; i+=1){\n",
    "            String a = secret.substring(i, i+length);\n",
    "            if (a.equals(guess)){\n",
    "                value++;\n",
    "            }\n",
    "            return value*length*length;\n",
    "        } \n",
    "     }\n",
    "\n",
    "     /* Returns the better of two guesses, as determined by scoreGuess and the rules a\n",
    "      * tie breaker that are describe in part (b)\n",
    "      * Precondition: guess 1 and guess 2 are all lowercase letters.\n",
    "      * guess 1 is not the same as guess 2\n",
    "      */\n",
    "\n",
    "     public String findBetterGuess(String guess1, String guess2){\n",
    "        int x = scoreGuess(guess1);\n",
    "        int y = scoreGuess(guess2);\n",
    "        if (x > y) return guess1;\n",
    "        if (y > x) return guess2;\n",
    "     }\n",
    "\n",
    "}"
   ]
  }
 ],
 "metadata": {
  "kernelspec": {
   "display_name": "Java",
   "language": "java",
   "name": "java"
  },
  "language_info": {
   "codemirror_mode": "java",
   "file_extension": ".jshell",
   "mimetype": "text/x-java-source",
   "name": "java",
   "pygments_lexer": "java",
   "version": "11.0.16.1+0"
  },
  "orig_nbformat": 4
 },
 "nbformat": 4,
 "nbformat_minor": 2
}
