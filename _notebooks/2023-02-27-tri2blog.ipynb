{
 "cells": [
  {
   "attachments": {},
   "cell_type": "markdown",
   "metadata": {},
   "source": [
    "# Unit 9 Inheritance\n",
    "\n",
    "- toc: false\n",
    "- badges: true\n",
    "- comments: true\n",
    "- author: Calissa"
   ]
  },
  {
   "attachments": {},
   "cell_type": "markdown",
   "metadata": {},
   "source": [
    "### Technical Accomplishments\n",
    "\n",
    "Over the course of this trimester, I struggled to understand assignments and overall Java concepts. Because of this, I feel that I was not able to complete tasks fully and to the expectations of the class.\n",
    "\n",
    "Despite this, I gave my best effort and pushed myself to try and understand and do newer and harder things.\n",
    "\n",
    "Throughout the duration of PBL, I stuck my hands onto almost every page of backend, and many pages on frontend. I needed to understand \n",
    "\n",
    "Later on, I started with JWT. \n",
    "Although I know that in order to authenticate people through login you need to give the user a cookie that gives them an identity and the permission to access certain pages, I couldn't really figure out how to do this. I asked some peers for help, but I realized that what seemed to make sense to them didn't make sense to me. So, like an unwise coder would do, I gave up. "
   ]
  }
 ],
 "metadata": {
  "kernelspec": {
   "display_name": "Java",
   "language": "java",
   "name": "java"
  },
  "language_info": {
   "name": "java",
   "version": "3.10.8"
  },
  "orig_nbformat": 4,
  "vscode": {
   "interpreter": {
    "hash": "b0fa6594d8f4cbf19f97940f81e996739fb7646882a419484c72d19e05852a7e"
   }
  }
 },
 "nbformat": 4,
 "nbformat_minor": 2
}
