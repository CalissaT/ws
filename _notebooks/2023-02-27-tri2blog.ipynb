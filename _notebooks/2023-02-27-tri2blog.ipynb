{
 "cells": [
  {
   "attachments": {},
   "cell_type": "markdown",
   "metadata": {},
   "source": [
    "# Tri 2 Reflection\n",
    "\n",
    "- toc: false\n",
    "- badges: true\n",
    "- comments: true\n",
    "- author: Calissa"
   ]
  },
  {
   "attachments": {},
   "cell_type": "markdown",
   "metadata": {},
   "source": [
    "### Technical Accomplishments\n",
    "\n",
    "Over the course of this trimester, I struggled to understand assignments and overall Java concepts. Because of this, I feel that I was not able to complete tasks fully and to the expectations of the class.Despite this, I gave my best effort and pushed myself to try and understand and do newer and harder things.\n",
    "\n",
    "Throughout the duration of PBL, I stuck my hands onto almost every page of backend, and many pages on frontend. I needed to understand what was going on in our project before I even knew where to start. I found myself helping around the project a lot, whether it be deployment, database errors, and frontend. Through this, I was kind of able to understand how our database works, the different tables in it, and GET/POST methods.\n",
    "\n",
    "Later on, I started with JWT. When first trying to add JWT to our site, I ran into a lot of Beans errors. I never thought seeing a Beans error could make me so angry, but I ended up fixing like 5. It took me a while to do this, about a week or so, and I realized I was really wasting time trying to fix everyone's errors because our project was not functional yet. So, I moved on to trying to get JWT to actually work. Although I know that in order to authenticate people through login you need to give the user a cookie that gives them an identity and the permission to access certain pages, I couldn't really figure out how to do this. I asked some peers for help, but I realized that what seemed to make sense to them didn't make sense to me. I spent a while staring at the JWT blogs on the APCSA website and I feel that I understand the concept of JWT very well. However, I have been unable to execute and actually put much down in code. After spending several days trying to figure it out, like an unwise coder would do, I gave up. "
   ]
  },
  {
   "attachments": {},
   "cell_type": "markdown",
   "metadata": {},
   "source": [
    "### Full Stack\n",
    "\n",
    "My full stack project was getting a functional signup page running. Since previously, we had already laid out the frontend for the signup, I needed to figure out how I was going to have the signup create a new person in our database. \n",
    "\n",
    "With some help from Mr. M, I was able to get a little push towards the right direction. I was able to lay down the foundation of my code, and made some changes so that the ids in the POST method matched the ids and columns in our database, which I had to mess around with. \n",
    "\n",
    "I quickly ran into some errors though, as upon present sign up, the POST would fail. Through this, I learned some handy dandy debugging tricks through Mr. M, and with his help discovered that the first issue was that there were conflicting ids. So, this was a pretty easy fix that just needed the ids to be renamed to nm and psw. \n",
    "\n",
    "After this, through the debugger, I noticed that my create_user function now worked and was able to collect the data from each input. However, it still was unable to create a new person. I kept getting fetch errors, but I only had a few days to try and get it working before N@TM. Unfortunately, I was unable to fix it before that, and instead resorted to manually inputting data into our database through Postman (but hey, at least our database works). \n",
    "\n",
    "I was never really able to get the signup to fully work, but I tried my best and learned some tricks for next trimester if I ever get stuck."
   ]
  }
 ],
 "metadata": {
  "kernelspec": {
   "display_name": "Java",
   "language": "java",
   "name": "java"
  },
  "language_info": {
   "name": "java",
   "version": "3.10.8"
  },
  "orig_nbformat": 4,
  "vscode": {
   "interpreter": {
    "hash": "b0fa6594d8f4cbf19f97940f81e996739fb7646882a419484c72d19e05852a7e"
   }
  }
 },
 "nbformat": 4,
 "nbformat_minor": 2
}
