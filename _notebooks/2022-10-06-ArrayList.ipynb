{
 "cells": [
  {
   "cell_type": "markdown",
   "metadata": {},
   "source": [
    "# ArrayList\n",
    "\n",
    "- toc: false\n",
    "- badges: true\n",
    "- comments: true\n",
    "- author: Calissa\n",
    "- categories: [java, labs]\n",
    "- image: images/arrayList.png\n",
    "\n",
    "java notebook"
   ]
  },
  {
   "cell_type": "markdown",
   "metadata": {},
   "source": [
    "### Arrays\n",
    "\n",
    "Can hold any datatype (ex: primitives or objects) but have fixed size "
   ]
  },
  {
   "cell_type": "markdown",
   "metadata": {},
   "source": [
    "### ArrayList \n",
    "\n",
    "Can only hold objects but you can change their size. Can get around the limitation of datatypes by using a wrapper class of whatever primitive data type you want to put (ex: Integer for int)\n",
    "\n",
    "They're kind of like a wrapper around Java's arrays that make them easier to use"
   ]
  },
  {
   "cell_type": "code",
   "execution_count": 29,
   "metadata": {},
   "outputs": [
    {
     "name": "stdout",
     "output_type": "stream",
     "text": [
      "Evan\n",
      "Evan\n",
      "4\n",
      "4\n",
      "John\n",
      "Hassan\n",
      "Hassan\n",
      "Kian\n",
      "[Ljava.lang.String;@438de3d0\n",
      "[Calissa, Kian, Samuel, John]\n"
     ]
    }
   ],
   "source": [
    "import java.util.Arrays;\n",
    "import java.util.ArrayList; \n",
    "\n",
    "public class ArrayVArrayList { \n",
    "\n",
    "    public static void main(String[] args){\n",
    "\n",
    "        //Declaring an Array\n",
    "        // Also can do: String[] scrumArray = new String[4]; //initializes string array and must give size\n",
    "                    // ^^ all 4 elements are null until they are set\n",
    "\n",
    "        String[] scrumArray = {\"Calissa\", \"Evan\", \"Kian\", \"Samuel\"}; //initializes values right away, size is implied\n",
    "\n",
    "        //Declaring an ArrayList\n",
    "        // Also can do: ArrayList<String> scrumArrayList = new ArrayList<>(); //instantiate arraylist, must declare datatype, uses diamond (<>) operator  \n",
    "\n",
    "        ArrayList<String> scrumArrayList = new ArrayList<>(Arrays.asList(\"Calissa\", \"Evan\", \"Kian\", \"Samuel\")); //passes .asList method (values you want to have in your arrayList)\n",
    "\n",
    "        //Getting value from Array\n",
    "        System.out.println(scrumArray[1]);\n",
    "\n",
    "        //Getting value from Array\n",
    "        System.out.println(scrumArrayList.get(1));\n",
    "\n",
    "        //Getting length from Array\n",
    "        System.out.println(scrumArray.length); //field on array\n",
    "\n",
    "        //Getting length from ArrayList\n",
    "        System.out.println(scrumArrayList.size()); //size is method call\n",
    "\n",
    "        //Adding element to end of ArrayList\n",
    "        scrumArrayList.add(\"John\"); //calls add method, pass element you want to add\n",
    "        System.out.println(scrumArrayList.get(4));\n",
    "\n",
    "        //Change element in Array\n",
    "        scrumArray[1] = \"Hassan\";\n",
    "        System.out.println(scrumArray[1]);\n",
    "\n",
    "        //Change element in ArrayList\n",
    "        scrumArrayList.set(1, \"Hassan\");\n",
    "        System.out.println(scrumArrayList.get(1));\n",
    "\n",
    "        //Remove element in ArrayList\n",
    "        /*\n",
    "         * Note: Can also do scrumArrayList.remove(\"ObjectName\");\n",
    "         */\n",
    "\n",
    "        scrumArrayList.remove(1);\n",
    "        System.out.println(scrumArrayList.get(1));\n",
    "\n",
    "        //Print Array\n",
    "        System.out.println(scrumArray); //gives memory address\n",
    "\n",
    "        //^^In order to print array you have to do a for loop and iterate over all elements\n",
    "\n",
    "        System.out.println(scrumArrayList); //implemented two string method so it prints out nicely\n",
    "\n",
    "\n",
    "}\n",
    "\n",
    "}\n",
    "\n",
    "ArrayVArrayList.main(null);"
   ]
  }
 ],
 "metadata": {
  "kernelspec": {
   "display_name": "Java",
   "language": "java",
   "name": "java"
  },
  "language_info": {
   "codemirror_mode": "java",
   "file_extension": ".jshell",
   "mimetype": "text/x-java-source",
   "name": "java",
   "pygments_lexer": "java",
   "version": "11.0.16.1+0"
  },
  "orig_nbformat": 4
 },
 "nbformat": 4,
 "nbformat_minor": 2
}
