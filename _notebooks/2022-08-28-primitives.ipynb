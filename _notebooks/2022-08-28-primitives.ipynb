{
 "cells": [
  {
   "cell_type": "markdown",
   "metadata": {},
   "source": [
    "# Primitives Notebook\n",
    "\n",
    "- toc: false\n",
    "- badges: true\n",
    "- comments: true\n",
    "- author: Calissa\n",
    "- categories: [fastpages, jupyter]\n",
    "- image: images/primitives.png\n",
    "\n",
    "java notebook"
   ]
  },
  {
   "cell_type": "code",
   "execution_count": 2,
   "metadata": {},
   "outputs": [
    {
     "name": "stdout",
     "output_type": "stream",
     "text": [
      "anInt: 3\n",
      "aDouble: 2.7\n",
      "aBoolean: true\n",
      "aString: Primitives\n",
      "aStringFormal: Primitives are cool!\n"
     ]
    }
   ],
   "source": [
    "public class DefinePrimitives {\n",
    "    public static void main(String[] args) {\n",
    "      int anInt = 3;\n",
    "      double aDouble = 2.7;\n",
    "      boolean aBoolean = true;\n",
    "\n",
    "      // not primitives but essential\n",
    "      String aString = \"Primitives\";   // wrapper class shortcut assignment\n",
    "      String aStringFormal = new String(\"Primitives are cool!\");\n",
    "  \n",
    "      System.out.println(\"anInt: \" + anInt);\n",
    "      System.out.println(\"aDouble: \" + aDouble);\n",
    "      System.out.println(\"aBoolean: \" + aBoolean);\n",
    "      System.out.println(\"aString: \" + aString);\n",
    "      System.out.println(\"aStringFormal: \" + aStringFormal);\n",
    "    }\n",
    "  }\n",
    "  DefinePrimitives.main(null)"
   ]
  }
 ],
 "metadata": {
  "kernelspec": {
   "display_name": "Java",
   "language": "java",
   "name": "java"
  },
  "language_info": {
   "codemirror_mode": "java",
   "file_extension": ".jshell",
   "mimetype": "text/x-java-source",
   "name": "java",
   "pygments_lexer": "java",
   "version": "11.0.16.1+0"
  },
  "orig_nbformat": 4,
  "vscode": {
   "interpreter": {
    "hash": "b0fa6594d8f4cbf19f97940f81e996739fb7646882a419484c72d19e05852a7e"
   }
  }
 },
 "nbformat": 4,
 "nbformat_minor": 2
}
