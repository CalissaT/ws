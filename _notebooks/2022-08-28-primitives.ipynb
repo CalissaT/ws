{
 "cells": [
  {
   "cell_type": "markdown",
   "metadata": {},
   "source": [
    "# Primitives Notebook\n",
    "\n",
    "- toc: false\n",
    "- badges: true\n",
    "- comments: true\n",
    "- author: Calissa\n",
    "- categories: [fastpages, jupyter]\n",
    "- image: images/primitives.png\n",
    "\n",
    "java notebook"
   ]
  },
  {
   "cell_type": "markdown",
   "metadata": {},
   "source": [
    "This is where everything I'm learning about Java and Primitives are! :)\n",
    "\n",
    "Overview of Java.\n",
    "\n",
    "The main method is where the program starts running.\n",
    "\n",
    "Objects are an instance of a class. Objects can have attributes. For instance, a Student object might have name and grade as attributes. \n",
    "\n",
    "A class is a programmer defined blueprint from which objects are created. \n",
    "\n",
    "A parameter is a variable in the method/constructor signature that defines the type of value to receive when the method or constructor is called.\n",
    "\n",
    "An argument is a value passed to a method or constructor when the method or constructor is called."
   ]
  },
  {
   "cell_type": "code",
   "execution_count": null,
   "metadata": {},
   "outputs": [],
   "source": []
  }
 ],
 "metadata": {
  "kernelspec": {
   "display_name": "Python 3.10.6 64-bit",
   "language": "python",
   "name": "python3"
  },
  "language_info": {
   "name": "python",
   "version": "3.10.6"
  },
  "orig_nbformat": 4,
  "vscode": {
   "interpreter": {
    "hash": "b0fa6594d8f4cbf19f97940f81e996739fb7646882a419484c72d19e05852a7e"
   }
  }
 },
 "nbformat": 4,
 "nbformat_minor": 2
}
