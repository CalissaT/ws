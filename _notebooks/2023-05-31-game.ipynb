{
 "cells": [
  {
   "attachments": {},
   "cell_type": "markdown",
   "metadata": {},
   "source": [
    "# Javascript Games!\n",
    "\n",
    "- toc: false\n",
    "- badges: true\n",
    "- comments: true\n",
    "- author: Calissa\n"
   ]
  },
  {
   "cell_type": "code",
   "execution_count": 47,
   "metadata": {},
   "outputs": [
    {
     "data": {
      "text/html": [
       "<button id=\"myButton\">Click Me</button>\n",
       "<p id=\"result\"></p>\n",
       "<p id=\"timer\"></p>\n"
      ],
      "text/plain": [
       "<IPython.core.display.HTML object>"
      ]
     },
     "metadata": {},
     "output_type": "display_data"
    }
   ],
   "source": [
    "%%html\n",
    "<button id=\"myButton\">Click Me</button>\n",
    "<p id=\"result\"></p>\n",
    "<p id=\"timer\"></p>\n"
   ]
  },
  {
   "cell_type": "code",
   "execution_count": 49,
   "metadata": {},
   "outputs": [
    {
     "data": {
      "application/javascript": "var count = 0;\nvar button = document.getElementById(\"myButton\");\nvar result = document.getElementById(\"result\");\n\nbutton.onclick = function() {\n    count++;\n    result.innerHTML = count;\n    if (count == 100){\n        console.log(\"Congrats you got to 100!\");\n    }\n}\n",
      "text/plain": [
       "<IPython.core.display.Javascript object>"
      ]
     },
     "metadata": {},
     "output_type": "display_data"
    }
   ],
   "source": [
    "%%js\n",
    "var count = 0;\n",
    "var button = document.getElementById(\"myButton\");\n",
    "var result = document.getElementById(\"result\");\n",
    "\n",
    "button.onclick = function() {\n",
    "    count++;\n",
    "    result.innerHTML = count;\n",
    "}"
   ]
  },
  {
   "cell_type": "code",
   "execution_count": 73,
   "metadata": {},
   "outputs": [
    {
     "data": {
      "text/html": [
       "<h2>Color: <span class=\"color\"></span></h2>\n",
       "<button id=\"btn\">Flip</button>\n"
      ],
      "text/plain": [
       "<IPython.core.display.HTML object>"
      ]
     },
     "metadata": {},
     "output_type": "display_data"
    }
   ],
   "source": [
    "%%html\n",
    "<h2>Color: <span class=\"color\"></span></h2>\n",
    "<button id=\"btn\">Flip</button>"
   ]
  },
  {
   "cell_type": "code",
   "execution_count": 74,
   "metadata": {},
   "outputs": [
    {
     "data": {
      "application/javascript": "//array of colors\nconst colors = [\"Yellow\", \"Brown\", \"Green\", \"Red\", \"Blue\", \"Purple\", \"Turquoise\"];\nconst btn = document.getElementById(\"btn\");\n//querySelector returns element that matches the selector\nconst select = document.querySelector(\".color\");\n\nbtn.addEventListener(\"click\", function () {\n  //generates random number\n  const randomNumber = getRandomNumber();\n\n  //changes background to random index selected inside colors array\n  document.body.style.backgroundColor = colors[randomNumber];\n  select.textContent = colors[randomNumber];\n});\n\n//random number generator\nfunction getRandomNumber() {\n  return Math.floor(Math.random() * colors.length);\n}\n",
      "text/plain": [
       "<IPython.core.display.Javascript object>"
      ]
     },
     "metadata": {},
     "output_type": "display_data"
    }
   ],
   "source": [
    "%%js\n",
    "//array of colors\n",
    "const colors = [\"Yellow\", \"Brown\", \"Green\", \"Red\", \"Blue\", \"Purple\", \"Turquoise\"];\n",
    "const btn = document.getElementById(\"btn\");\n",
    "//querySelector returns element that matches the selector\n",
    "const select = document.querySelector(\".color\");\n",
    "\n",
    "btn.addEventListener(\"click\", function () {\n",
    "  //generates random number\n",
    "  const randomNumber = getRandomNumber();\n",
    "\n",
    "  //changes background to random index selected inside colors array\n",
    "  document.body.style.backgroundColor = colors[randomNumber];\n",
    "  select.textContent = colors[randomNumber];\n",
    "});\n",
    "\n",
    "//random number generator\n",
    "function getRandomNumber() {\n",
    "  return Math.floor(Math.random() * colors.length);\n",
    "}"
   ]
  },
  {
   "cell_type": "code",
   "execution_count": 6,
   "metadata": {},
   "outputs": [
    {
     "data": {
      "text/html": [
       "<button class=\"btn\">New Dad Joke!</button>\n",
       "<p class=\"result\">Dad jokes...</p>\n"
      ],
      "text/plain": [
       "<IPython.core.display.HTML object>"
      ]
     },
     "metadata": {},
     "output_type": "display_data"
    }
   ],
   "source": [
    "%%html\n",
    "<button class=\"btn\">New Dad Joke!</button>\n",
    "<p class=\"result\">Dad jokes...</p>"
   ]
  },
  {
   "cell_type": "code",
   "execution_count": 7,
   "metadata": {},
   "outputs": [
    {
     "data": {
      "application/javascript": "//url of the dad joke api\nconst url = 'https://icanhazdadjoke.com/';\n\nconst btn = document.querySelector('.btn');\nconst result = document.querySelector('.result');\n\n//waiting on button click\nbtn.addEventListener('click', () => {\n  fetchDadJoke();\n});\n\n//fetches dad joke\nconst fetchDadJoke = async () => {\n  result.textContent = 'Loading...';\n  try {\n    const response = await fetch(url, {\n      headers: {\n        Accept: 'application/json',\n        'User-Agent': 'learning app',\n      },\n    });\n    if (!response.ok) {\n      throw new Error(' error');\n    }\n    const data = await response.json();\n    \n    result.textContent = data.joke;\n  } catch (error) {\n    console.log(error.message);\n    result.textContent = 'There was an error...';\n  }\n};\n\nfetchDadJoke();\n",
      "text/plain": [
       "<IPython.core.display.Javascript object>"
      ]
     },
     "metadata": {},
     "output_type": "display_data"
    }
   ],
   "source": [
    "%%js\n",
    "//url of the dad joke api\n",
    "const url = 'https://icanhazdadjoke.com/';\n",
    "\n",
    "const btn = document.querySelector('.btn');\n",
    "const result = document.querySelector('.result');\n",
    "\n",
    "//waiting on button click\n",
    "btn.addEventListener('click', () => {\n",
    "  fetchDadJoke();\n",
    "});\n",
    "\n",
    "//fetches dad joke\n",
    "const fetchDadJoke = async () => {\n",
    "  result.textContent = 'Loading...';\n",
    "  try {\n",
    "    const response = await fetch(url, {\n",
    "      headers: {\n",
    "        Accept: 'application/json',\n",
    "        'User-Agent': 'learning app',\n",
    "      },\n",
    "    });\n",
    "    if (!response.ok) {\n",
    "      throw new Error(' error');\n",
    "    }\n",
    "    const data = await response.json();\n",
    "    \n",
    "    result.textContent = data.joke;\n",
    "  } catch (error) {\n",
    "    console.log(error.message);\n",
    "    result.textContent = 'There was an error...';\n",
    "  }\n",
    "};\n",
    "\n",
    "fetchDadJoke();"
   ]
  }
 ],
 "metadata": {
  "kernelspec": {
   "display_name": "Python 3",
   "language": "python",
   "name": "python3"
  },
  "language_info": {
   "codemirror_mode": {
    "name": "ipython",
    "version": 3
   },
   "file_extension": ".py",
   "mimetype": "text/x-python",
   "name": "python",
   "nbconvert_exporter": "python",
   "pygments_lexer": "ipython3",
   "version": "3.10.8"
  },
  "orig_nbformat": 4
 },
 "nbformat": 4,
 "nbformat_minor": 2
}
