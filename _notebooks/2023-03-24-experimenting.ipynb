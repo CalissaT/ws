{
 "cells": [
  {
   "attachments": {},
   "cell_type": "markdown",
   "metadata": {},
   "source": [
    "# Experimenting and Practice\n",
    "\n",
    "- toc: false\n",
    "- badges: true\n",
    "- comments: true\n",
    "- author: Calissa"
   ]
  },
  {
   "cell_type": "code",
   "execution_count": 68,
   "metadata": {},
   "outputs": [
    {
     "name": "stdout",
     "output_type": "stream",
     "text": [
      "12345678"
     ]
    }
   ],
   "source": [
    "\n",
    "// two nums array and a merged array\n",
    "int[] nums1 = new int[]{ 1, 4, 5, 8 };\n",
    "int[] nums2 = new int[]{ 2, 3, 6, 7 };\n",
    "int[] merged = new int[8];\n",
    "\n",
    "//setting counts so we can iterate through the elements separately\n",
    "int countOne = 0;\n",
    "int countTwo = 0;\n",
    "int m = 0;\n",
    "\n",
    "//iterates 7 times, as 8th iteration creates an outofbounds error because nums2[5] doesn't exist\n",
    "for (int i = 0; i < 7; i++){ \n",
    "    //if element in nums1 is bigger than the element in nums2\n",
    "    if (nums1[countOne] < nums2[countTwo]){\n",
    "        //sets the index of merged equal to nums1 element\n",
    "        merged[m] = nums1[countOne];\n",
    "        countOne++;\n",
    "        m++;\n",
    "        }\n",
    "    else {\n",
    "        //sets the index of merged equal to nums2 element\n",
    "        merged[m] = nums2[countTwo];\n",
    "        countTwo++;\n",
    "        m++;\n",
    "        }\n",
    "    }\n",
    "//sets the last index of merged to last index of nums1\n",
    "merged[7]= nums1[3];\n",
    "\n",
    "//prints merge\n",
    "for(int nums: merged){\n",
    "    System.out.print(nums);\n",
    "}"
   ]
  }
 ],
 "metadata": {
  "kernelspec": {
   "display_name": "Java",
   "language": "java",
   "name": "java"
  },
  "language_info": {
   "codemirror_mode": "java",
   "file_extension": ".jshell",
   "mimetype": "text/x-java-source",
   "name": "java",
   "pygments_lexer": "java",
   "version": "17.0.5+0"
  },
  "orig_nbformat": 4
 },
 "nbformat": 4,
 "nbformat_minor": 2
}
