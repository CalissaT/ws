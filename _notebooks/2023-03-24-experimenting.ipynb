{
 "cells": [
  {
   "attachments": {},
   "cell_type": "markdown",
   "metadata": {},
   "source": [
    "# Experimenting and Practice\n",
    "\n",
    "- toc: false\n",
    "- badges: true\n",
    "- comments: true\n",
    "- author: Calissa"
   ]
  },
  {
   "attachments": {},
   "cell_type": "markdown",
   "metadata": {},
   "source": [
    "### Merge with Fixed Variables"
   ]
  },
  {
   "cell_type": "code",
   "execution_count": 68,
   "metadata": {
    "vscode": {
     "languageId": "java"
    }
   },
   "outputs": [
    {
     "name": "stdout",
     "output_type": "stream",
     "text": [
      "12345678"
     ]
    }
   ],
   "source": [
    "\n",
    "// two nums array and a merged array\n",
    "int[] nums1 = new int[]{ 1, 4, 5, 8 };\n",
    "int[] nums2 = new int[]{ 2, 3, 6, 7 };\n",
    "int[] merged = new int[8];\n",
    "\n",
    "//setting counts so we can iterate through the elements separately\n",
    "int countOne = 0;\n",
    "int countTwo = 0;\n",
    "int m = 0;\n",
    "\n",
    "//iterates 7 times, as 8th iteration creates an outofbounds error because nums2[5] doesn't exist\n",
    "for (int i = 0; i < 7; i++){ \n",
    "    //if element in nums1 is bigger than the element in nums2\n",
    "    if (nums1[countOne] < nums2[countTwo]){\n",
    "        //sets the index of merged equal to nums1 element\n",
    "        merged[m] = nums1[countOne];\n",
    "        countOne++;\n",
    "        m++;\n",
    "        }\n",
    "    else {\n",
    "        //sets the index of merged equal to nums2 element\n",
    "        merged[m] = nums2[countTwo];\n",
    "        countTwo++;\n",
    "        m++;\n",
    "        }\n",
    "    }\n",
    "//sets the last index of merged to last index of nums1\n",
    "merged[7]= nums1[3];\n",
    "\n",
    "//prints merge\n",
    "for(int nums: merged){\n",
    "    System.out.print(nums);\n",
    "}"
   ]
  },
  {
   "attachments": {},
   "cell_type": "markdown",
   "metadata": {},
   "source": [
    "### Merge with Flexible Variables"
   ]
  },
  {
   "cell_type": "code",
   "execution_count": 18,
   "metadata": {
    "vscode": {
     "languageId": "java"
    }
   },
   "outputs": [
    {
     "name": "stdout",
     "output_type": "stream",
     "text": [
      "12345678"
     ]
    }
   ],
   "source": [
    "// two nums array and a merged array\n",
    "int[] nums1 = new int[]{ 1, 4, 5, 8 };\n",
    "int[] nums2 = new int[]{ 2, 3, 6, 7 };\n",
    "\n",
    "// finds length of both arrays\n",
    "int totalLength = nums1.length + nums2.length;\n",
    "int[] merged = new int[totalLength];\n",
    "\n",
    "//iterate through merged and other arrays separately\n",
    "int m = 0;\n",
    "int countOne = 0;\n",
    "int countTwo = 0; \n",
    "\n",
    "for (int i = 0; i < totalLength; i++){\n",
    "    //if nums1 is empty\n",
    "    if(countOne == nums1.length){\n",
    "    //dumps rest of array into merged\n",
    "        for (int a = countTwo; a < nums2.length; a++){\n",
    "            merged[m] = nums2[a];\n",
    "       }\n",
    "    }\n",
    "    //if nums2 is empty\n",
    "    else if (countTwo == nums2.length){\n",
    "        //dumps rest of array into merged\n",
    "        for (int a = countOne; a < nums1.length; a++){\n",
    "            merged[m] = nums1[a];\n",
    "        }\n",
    "    }\n",
    "    else if (nums1[countOne] < nums2[countTwo]){\n",
    "        //sets the index of merged equal to nums1 element\n",
    "        merged[m] = nums1[countOne];\n",
    "        countOne++;\n",
    "        m++;\n",
    "    }\n",
    "    else {\n",
    "        //sets the index of merged equal to nums2 element\n",
    "        merged[m] = nums2[countTwo];\n",
    "        countTwo++;\n",
    "        m++;\n",
    "    }\n",
    "}\n",
    "\n",
    "for (int nums: merged){\n",
    "    System.out.print(nums);\n",
    "}"
   ]
  },
  {
   "attachments": {},
   "cell_type": "markdown",
   "metadata": {},
   "source": [
    "### Insertion Sort"
   ]
  },
  {
   "cell_type": "code",
   "execution_count": 45,
   "metadata": {
    "vscode": {
     "languageId": "java"
    }
   },
   "outputs": [
    {
     "name": "stdout",
     "output_type": "stream",
     "text": [
      "12357"
     ]
    }
   ],
   "source": [
    "int[] nums = new int[]{1, 5, 3, 7, 2};\n",
    "\n",
    "//for each value through array\n",
    "for (int i = 1; i < nums.length; i++){\n",
    "    //value at index i\n",
    "    int value = nums[i];\n",
    "    //value before index i\n",
    "    int a = i - 1;\n",
    "\n",
    "    //iterates while a>0 and the value before index i is greater than at index i\n",
    "    while (a >= 0 && nums[a] > value){\n",
    "        //moves larger value one index back (swaps position)\n",
    "        nums[a + 1] = nums[a];\n",
    "        a = a - 1;\n",
    "    }\n",
    "    //sets index to value\n",
    "    nums[a + 1] = value;\n",
    "}\n",
    "\n",
    "for (int x: nums){\n",
    "    System.out.print(x);\n",
    "}"
   ]
  }
 ],
 "metadata": {
  "kernelspec": {
   "display_name": "Java",
   "language": "java",
   "name": "java"
  },
  "language_info": {
   "codemirror_mode": "java",
   "file_extension": ".jshell",
   "mimetype": "text/x-java-source",
   "name": "Java",
   "pygments_lexer": "java",
   "version": "17.0.5+0"
  },
  "orig_nbformat": 4
 },
 "nbformat": 4,
 "nbformat_minor": 2
}
