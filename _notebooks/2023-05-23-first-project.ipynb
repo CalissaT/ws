{
 "cells": [
  {
   "cell_type": "markdown",
   "metadata": {},
   "source": [
    "# Unity Introduction and First Project\n",
    "> Unity // AP CSA\n",
    "\n",
    "- toc: true \n",
    "- badges: true\n",
    "- comments: true\n",
    "- categories: [jupyter,testprep]\n",
    "- image: images/chart-preview.png"
   ]
  },
  {
   "cell_type": "markdown",
   "metadata": {},
   "source": [
    "### Tour of Unity\n",
    "Unity is the game development IDE that we will be using to create 2D and 3D Games. In this lesson we will be creating a 2D game.\n",
    "\n",
    "##### Home Page"
   ]
  },
  {
   "cell_type": "markdown",
   "metadata": {},
   "source": [
    "<div>\n",
    "    <div style=\"float: left; margin: 0px 10px 10px 0px;\">\n",
    "        <img src=\"images/toolbar.png\" alt=\"Unity Tools\" title=\"Unity Tool Bar\"> \n",
    "    </div>\n",
    "        <div>\n",
    "            <p> The homepage features four main pages being projects, installs, learn, and community. For this project, we focused on projects and installs. If you have not already installed your Unity Editor, visit the previous lesson we created that has step by step instructions and FAQs. The project tabs are where all of the games and builds you create in Unity are stored.</p> <br> <br>\n",
    "            <h5>Creating a Project</h5>\n",
    "<p>To create a project in Unity, click Projects then select New Project in the top right corner. You should be brought to a page where you can select the format of the game you want to create. For this first tutorial, we will be creating a <mark>2D game</mark>. Name the project then select the location you want it to be in on your computer.<p>\n",
    "        </div>\n",
    "</div>"
   ]
  },
  {
   "cell_type": "markdown",
   "metadata": {},
   "source": [
    "## Unity Editor\n",
    "Welcome to the Unity Editor! From there you should be taken to this screen:\n",
    "\n",
    "\n",
    "![](https://connect-prd-cdn.unity.com/20220606/learn/images/7fabb375-5282-4852-9ecf-d8acc254052b_EditorExplore.png)"
   ]
  },
  {
   "cell_type": "markdown",
   "metadata": {},
   "source": []
  }
 ],
 "metadata": {
  "kernelspec": {
   "display_name": "Python 3 (ipykernel)",
   "language": "python",
   "name": "python3"
  },
  "language_info": {
   "codemirror_mode": {
    "name": "ipython",
    "version": 3
   },
   "file_extension": ".py",
   "mimetype": "text/x-python",
   "name": "python",
   "nbconvert_exporter": "python",
   "pygments_lexer": "ipython3",
   "version": "3.9.12"
  }
 },
 "nbformat": 4,
 "nbformat_minor": 2
}
