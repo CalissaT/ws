{
 "cells": [
  {
   "cell_type": "markdown",
   "metadata": {},
   "source": [
    "# FRQ Method and Control Structures\n",
    "\n",
    "- toc: false\n",
    "- badges: true\n",
    "- comments: true\n",
    "- author: Calissa\n",
    "- categories: [java]\n",
    "- image: images/collegeboard.jpeg\n",
    "\n",
    "java notebook"
   ]
  },
  {
   "cell_type": "markdown",
   "metadata": {},
   "source": [
    "Static Method: \n",
    "- Method is a part of a class rather than an instance of that class\n",
    "- Every instance of a class has access to the method"
   ]
  },
  {
   "cell_type": "code",
   "execution_count": null,
   "metadata": {},
   "outputs": [],
   "source": [
    "public class APCalendar\n",
    "{\n",
    "    /** Returns true if year is a leap year and false otherwise. */\n",
    "    private static boolean isLeapYear(int year)\n",
    "        { /* implementation not shown */ }\n",
    "        \n",
    "        /** Returns the number of leap years between year1 and year2, inclusive.\n",
    "         * Precondition: 0 <= year1 <= year2\n",
    "         */\n",
    "    public static int numberOfLeapYears(int year1, int year2)\n",
    "        { \n",
    "            int count = 0;\n",
    "            //everything between year1 and year 2\n",
    "            for (int i = year1; i <= year2; i++){\n",
    "                //if i is a leap year\n",
    "                if (isLeapYear(i)){\n",
    "                    count++;\n",
    "                }\n",
    "                else {\n",
    "\n",
    "                }\n",
    "            }\n",
    "            return count;\n",
    "        \n",
    "        }\n",
    "\n",
    "        /** Returns the value representing the day of the week for the first day of year,\n",
    "         * where 0 denotes Sunday, 1 denotes Monday, ..., and 6 denotes Saturday.\n",
    "         */\n",
    "    private static int firstDayOfYear(int year)\n",
    "        { /* implementation not shown */ }\n",
    "\n",
    "        /** Returns n, where month, day, and year specify the nth day of the year.\n",
    "         * Returns 1 for January 1 (month = 1, day = 1) of any year.\n",
    "         * Precondition: The date represented by month, day, year is a valid date.\n",
    "         */\n",
    "    private static int dayOfYear(int month, int day, int year)\n",
    "        { /* implementation not shown */ }\n",
    "\n",
    "        /** Returns the value representing the day of the week for the given date\n",
    "         * (month, day, year), where 0 denotes Sunday, 1 denotes Monday, ...,\n",
    "         * and 6 denotes Saturday.\n",
    "         * Precondition: The date represented by month, day, year is a valid date.\n",
    "         */\n",
    "    public static int dayOfWeek(int month, int day, int year)\n",
    "        { \n",
    "            //adds first day of year and the current day of year, subtract one to avoid duplicate\n",
    "            int daysIntoYear = firstDayOfYear(year) + dayOfYear(month, day, year) - 1; //total amount of days it has been\n",
    "            int dayOfWeek = daysIntoYear % 7; //divides by 7 days of week\n",
    "            return dayOfWeek;\n",
    "\n",
    "        }\n",
    "\n",
    "    // There may be instance variables, constructors, and other methods not shown.\n",
    "}"
   ]
  }
 ],
 "metadata": {
  "kernelspec": {
   "display_name": "Java",
   "language": "java",
   "name": "java"
  },
  "language_info": {
   "codemirror_mode": "java",
   "file_extension": ".jshell",
   "mimetype": "text/x-java-source",
   "name": "java",
   "pygments_lexer": "java",
   "version": "17.0.5+0"
  },
  "orig_nbformat": 4
 },
 "nbformat": 4,
 "nbformat_minor": 2
}
