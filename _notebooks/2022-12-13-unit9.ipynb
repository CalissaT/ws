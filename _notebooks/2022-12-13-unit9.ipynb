{
 "cells": [
  {
   "attachments": {},
   "cell_type": "markdown",
   "metadata": {},
   "source": [
    "# Unit 8 2D Arrays\n",
    "\n",
    "- toc: false\n",
    "- badges: true\n",
    "- comments: true\n",
    "- author: Calissa\n",
    "- categories: [java]\n",
    "- image: images/collegeboard.jpeg\n",
    "\n",
    "java notebook"
   ]
  },
  {
   "attachments": {},
   "cell_type": "markdown",
   "metadata": {},
   "source": [
    "Protected variables: access modifier so attribute isn't affected by outside modifier\n",
    "\n",
    "Subclass: Extends from a superclass\n",
    "\n",
    "Overriding: You can override a method by using the @Override above the method you wish to override\n",
    "\n",
    "Polymorphism: When a method has many forms (overriding)\n",
    "\n",
    "Method Overloading: Two methods with same name but different arguments "
   ]
  },
  {
   "cell_type": "code",
   "execution_count": 15,
   "metadata": {},
   "outputs": [
    {
     "name": "stdout",
     "output_type": "stream",
     "text": [
      "Woof!\n"
     ]
    }
   ],
   "source": [
    "//super class Dog\n",
    "public class Dog {\n",
    "    //protected variables\n",
    "    protected String coatTexture;\n",
    "    protected String color;\n",
    "    protected String size;\n",
    "\n",
    "    public Dog(String coatTexutre, String color, String size){\n",
    "        this.coatTexture = coatTexture;\n",
    "        this.color = color;\n",
    "        this.size = size;\n",
    "    }\n",
    "    //bark method\n",
    "    public void bark(){\n",
    "        System.out.println(\"Bark!\");\n",
    "    }\n",
    "}\n",
    "\n",
    "//sub class siberianHusky\n",
    "public class SiberianHusky extends Dog {\n",
    "    protected String sheds;\n",
    "\n",
    "    public SiberianHusky (String coatTexture, String color, String size, String sheds){\n",
    "        super(coatTexture, color, size);\n",
    "        this.sheds = sheds;\n",
    "    }\n",
    "\n",
    "    //overriding the bark method\n",
    "    @Override\n",
    "    public void bark(){\n",
    "        System.out.println(\"Woof!\");\n",
    "    }\n",
    "\n",
    "    public static void main(String[] args){\n",
    "        Dog husky = new SiberianHusky(\"Double Coat\", \"Black and White\", \"Large\", \"Heavy Shedder\");\n",
    "\n",
    "        husky.bark();\n",
    "    }\n",
    "}\n",
    "SiberianHusky.main(null);\n",
    "\n",
    "//sub class pug\n"
   ]
  },
  {
   "cell_type": "code",
   "execution_count": 24,
   "metadata": {},
   "outputs": [
    {
     "name": "stdout",
     "output_type": "stream",
     "text": [
      "Grrrr!\n",
      "This pug has 4 toe beans\n",
      "This pug has 4 toe beans on its 4 feet\n"
     ]
    }
   ],
   "source": [
    "public class Pug extends Dog {\n",
    "    \n",
    "    public Pug (String coatTexture, String color, String size){\n",
    "        super(coatTexture, color, size);\n",
    "    }\n",
    "\n",
    "    //Runtime polymorphism (overriding again)\n",
    "    @Override\n",
    "    public void bark(){\n",
    "        System.out.println(\"Grrrr!\");\n",
    "    }\n",
    "\n",
    "    public void xxx() {\n",
    "        System.out.println(\"xxx zero args\");\n",
    "    }\n",
    "\n",
    "    //method overloading\n",
    "    public void toeBeans(int a) {\n",
    "        System.out.println(\"This pug has \" + a + \" toe beans\");\n",
    "    }\n",
    "    //method overloading\n",
    "    public void toeBeans(int a, int b){\n",
    "        System.out.println(\"This pug has \" + a + \" toe beans on its \" + b + \" feet\" );\n",
    "    }\n",
    "\n",
    "    public static void main(String[] args){\n",
    "        Pug pug = new Pug(\"Short Coat\", \"Any Color!\", \"Small\");\n",
    "        \n",
    "        pug.bark();\n",
    "\n",
    "        pug.toeBeans(4);\n",
    "        pug.toeBeans(4, 4);\n",
    "    }\n",
    "}\n",
    "\n",
    "Pug.main(null);"
   ]
  }
 ],
 "metadata": {
  "kernelspec": {
   "display_name": "Java",
   "language": "java",
   "name": "java"
  },
  "language_info": {
   "codemirror_mode": "java",
   "file_extension": ".jshell",
   "mimetype": "text/x-java-source",
   "name": "java",
   "pygments_lexer": "java",
   "version": "17.0.5+0"
  },
  "orig_nbformat": 4
 },
 "nbformat": 4,
 "nbformat_minor": 2
}
