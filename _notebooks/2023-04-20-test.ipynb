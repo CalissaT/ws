{
 "cells": [
  {
   "cell_type": "code",
   "execution_count": 13,
   "metadata": {},
   "outputs": [
    {
     "ename": "CompilationException",
     "evalue": "",
     "output_type": "error",
     "traceback": [
      "\u001b[1m\u001b[30m|   \u001b[1m\u001b[30mpublic static \u001b[0m\u001b[1m\u001b[30m\u001b[41m\u001b[0m\u001b[1m\u001b[30mtoString(){\u001b[0m",
      "\u001b[1m\u001b[31minvalid method declaration; return type required\u001b[0m",
      "",
      "\u001b[1m\u001b[30m|   \u001b[1m\u001b[30mpublic static \u001b[0m\u001b[1m\u001b[30m\u001b[41m\u001b[0m\u001b[1m\u001b[30mtester(){\u001b[0m",
      "\u001b[1m\u001b[31minvalid method declaration; return type required\u001b[0m",
      ""
     ]
    }
   ],
   "source": [
    "import java.util.UUID;\n",
    "\n",
    "public class Book {\n",
    "\n",
    "private String bookTitle;\n",
    "private static int bookCount = 0;\n",
    "private final UUID id;\n",
    "\n",
    "\n",
    "//1. Define 1 argument constructure for title\n",
    "public static Book(String bookTitle){\n",
    "    this.bookTitle = bookTitle;\n",
    "    bookCount++;\n",
    "}\n",
    "\n",
    "//2. Define toString method for title, and a tester method\n",
    "public static toString(){\n",
    "    return \"Title:\" + this.title;\n",
    "}\n",
    "\n",
    "//3. Generate unique id for class\n",
    "public static int giveID(){\n",
    "    \n",
    "}   \n",
    "\n",
    "//4. Create a public getter that has Book Count\n",
    "public static int getCount(){\n",
    "    return bookCount;\n",
    "}\n",
    "\n",
    "//5. Define tester method that intitialized at least 2 books, outputs title, and provides a count of books in library \n",
    "public static tester(){\n",
    "    Book book1 = new Book(\"Lord of the Rings\");\n",
    "    Book book2 = new Book(\"Math textbook\");\n",
    "\n",
    "    System.out.println();\n",
    "\n",
    "    \n",
    "}\n",
    "\n",
    "}\n",
    "//Sorry Mr. M I failed you\n",
    "\n"
   ]
  }
 ],
 "metadata": {
  "kernelspec": {
   "display_name": "Java",
   "language": "java",
   "name": "java"
  },
  "language_info": {
   "codemirror_mode": "java",
   "file_extension": ".jshell",
   "mimetype": "text/x-java-source",
   "name": "java",
   "pygments_lexer": "java",
   "version": "17.0.5+0"
  },
  "orig_nbformat": 4
 },
 "nbformat": 4,
 "nbformat_minor": 2
}
