{
 "cells": [
  {
   "cell_type": "markdown",
   "metadata": {},
   "source": [
    "# Bash Notebook\n",
    "\n",
    "- toc: false\n",
    "- badges: true\n",
    "- comments: true\n",
    "- author: Calissa\n",
    "- categories: [fastpages, jupyter]\n",
    "- image: images/bash.png"
   ]
  },
  {
   "cell_type": "code",
   "execution_count": 2,
   "metadata": {
    "vscode": {
     "languageId": "shellscript"
    }
   },
   "outputs": [
    {
     "name": "stdout",
     "output_type": "stream",
     "text": [
      "Applications\t\tLibrary\t\t\tinstall.py\n",
      "Creative Cloud Files\tMovies\t\t\tjava\n",
      "Desktop\t\t\tMusic\t\t\topt\n",
      "Documents\t\tPictures\t\tspring_portfolio\n",
      "Downloads\t\tPublic\t\t\tvscode\n",
      "Experimenting\t\tijava-1.3.0.zip\t\tws\n",
      "IdeaProjects\t\tijava-1.3.0.zip.1\n"
     ]
    }
   ],
   "source": [
    "cd\n",
    "ls"
   ]
  }
 ],
 "metadata": {
  "kernelspec": {
   "display_name": "Bash",
   "language": "bash",
   "name": "bash"
  },
  "language_info": {
   "codemirror_mode": "shell",
   "file_extension": ".sh",
   "mimetype": "text/x-sh",
   "name": "bash"
  },
  "orig_nbformat": 4
 },
 "nbformat": 4,
 "nbformat_minor": 2
}
