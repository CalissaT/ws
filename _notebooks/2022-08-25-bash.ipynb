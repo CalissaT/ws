{
 "cells": [
  {
   "cell_type": "markdown",
   "metadata": {},
   "source": [
    "# Bash Notebook\n",
    "\n",
    "- toc: false\n",
    "- badges: true\n",
    "- comments: true\n",
    "- author: Calissa\n",
    "- categories: [fastpages, jupyter]\n",
    "- image: images/bash.png"
   ]
  },
  {
   "cell_type": "code",
   "execution_count": 1,
   "metadata": {
    "vscode": {
     "languageId": "shellscript"
    }
   },
   "outputs": [
    {
     "name": "stdout",
     "output_type": "stream",
     "text": [
      "Applications\t\tLibrary\t\t\tinstall.py\n",
      "Creative Cloud Files\tMovies\t\t\tjava\n",
      "Desktop\t\t\tMusic\t\t\topt\n",
      "Documents\t\tPictures\t\tspring_portfolio\n",
      "Downloads\t\tPublic\t\t\tvscode\n",
      "Experimenting\t\tijava-1.3.0.zip\t\tws\n",
      "IdeaProjects\t\tijava-1.3.0.zip.1\n",
      "Available kernels:\n",
      "  python3106jvsc74a57bd0b0fa6594d8f4cbf19f97940f81e996739fb7646882a419484c72d19e05852a7e    /Users/calissa/.vscode/extensions/ms-toolsai.jupyter-2022.7.1102252217/temp/jupyter/kernels/python3106jvsc74a57bd0b0fa6594d8f4cbf19f97940f81e996739fb7646882a419484c72d19e05852a7e\n",
      "  python3912jvsc74a57bd09961afd50ddbee2a31a7c4a950441f89c9f7e572a5e9be13392b2ff72436ece0    /Users/calissa/.vscode/extensions/ms-toolsai.jupyter-2022.7.1102252217/temp/jupyter/kernels/python3912jvsc74a57bd09961afd50ddbee2a31a7c4a950441f89c9f7e572a5e9be13392b2ff72436ece0\n",
      "  bash                                                                                      /Users/calissa/Library/Jupyter/kernels/bash\n",
      "  java                                                                                      /Users/calissa/Library/Jupyter/kernels/java\n",
      "  javascript                                                                                /Users/calissa/Library/Jupyter/kernels/javascript\n",
      "  python3                                                                                   /Users/calissa/opt/anaconda3/share/jupyter/kernels/python3\n"
     ]
    }
   ],
   "source": [
    "cd\n",
    "ls"
   ]
  },
  {
   "cell_type": "code",
   "execution_count": 8,
   "metadata": {
    "vscode": {
     "languageId": "shellscript"
    }
   },
   "outputs": [
    {
     "name": "stdout",
     "output_type": "stream",
     "text": [
      "Python 3.9.12\n",
      "openjdk 11.0.16.1 2022-08-12\n",
      "OpenJDK Runtime Environment Homebrew (build 11.0.16.1+0)\n",
      "OpenJDK 64-Bit Server VM Homebrew (build 11.0.16.1+0, mixed mode)\n",
      "javac 11.0.16.1\n"
     ]
    }
   ],
   "source": [
    "python --version\n",
    "java --version\n",
    "javac --version"
   ]
  },
  {
   "cell_type": "code",
   "execution_count": 9,
   "metadata": {
    "vscode": {
     "languageId": "shellscript"
    }
   },
   "outputs": [
    {
     "name": "stdout",
     "output_type": "stream",
     "text": [
      "Available kernels:\n",
      "  python3106jvsc74a57bd0b0fa6594d8f4cbf19f97940f81e996739fb7646882a419484c72d19e05852a7e    /Users/calissa/.vscode/extensions/ms-toolsai.jupyter-2022.7.1102252217/temp/jupyter/kernels/python3106jvsc74a57bd0b0fa6594d8f4cbf19f97940f81e996739fb7646882a419484c72d19e05852a7e\n",
      "  python3912jvsc74a57bd09961afd50ddbee2a31a7c4a950441f89c9f7e572a5e9be13392b2ff72436ece0    /Users/calissa/.vscode/extensions/ms-toolsai.jupyter-2022.7.1102252217/temp/jupyter/kernels/python3912jvsc74a57bd09961afd50ddbee2a31a7c4a950441f89c9f7e572a5e9be13392b2ff72436ece0\n",
      "  bash                                                                                      /Users/calissa/Library/Jupyter/kernels/bash\n",
      "  java                                                                                      /Users/calissa/Library/Jupyter/kernels/java\n",
      "  javascript                                                                                /Users/calissa/Library/Jupyter/kernels/javascript\n",
      "  python3                                                                                   /Users/calissa/opt/anaconda3/share/jupyter/kernels/python3\n"
     ]
    }
   ],
   "source": [
    "jupyter kernelspec list"
   ]
  }
 ],
 "metadata": {
  "kernelspec": {
   "display_name": "Bash",
   "language": "bash",
   "name": "bash"
  },
  "language_info": {
   "codemirror_mode": "shell",
   "file_extension": ".sh",
   "mimetype": "text/x-sh",
   "name": "bash"
  },
  "orig_nbformat": 4
 },
 "nbformat": 4,
 "nbformat_minor": 2
}
