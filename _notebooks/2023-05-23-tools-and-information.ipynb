{
 "cells": [
  {
   "cell_type": "markdown",
   "metadata": {},
   "source": [
    "# Unity Tools and Information\n",
    "> Unity // AP CSA\n",
    "\n",
    "- toc: true \n",
    "- badges: true\n",
    "- comments: true\n",
    "- categories: [jupyter,testprep]\n",
    "- image: images/chart-preview.png"
   ]
  },
  {
   "cell_type": "markdown",
   "metadata": {},
   "source": [
    "### Unity Overview\n",
    "<mark>Are you interested in Game Development? Are you interested in an outlet for your creativity?</mark> Well Unity is the tool for you. Unity is popular cross-platform game development engine and integrated development environment. It provides a comprehensive set of tools and features for creating interactive 2D and 3D games, simulations, and other real-time applications. Unity is known for its versatility, as it supports multiple platforms such as Windows, macOS, Linux, Android, iOS, consoles, and web browsers. Unity allows developers to create games using C#. Unity provides an extensive asset pipeline, allowing developers to import and manage various types of assets, including 3D models, textures, animations, audio files, and more. It also offers a wide range of built-in features and tools, such as physics simulation, audio mixing, particle effects, animation systems, lighting, and artificial intelligence."
   ]
  },
  {
   "cell_type": "markdown",
   "metadata": {},
   "source": [
    "#### Tools Required\n",
    "- Computer using either MacOS, Windows, or Linux\n",
    "- Unity: The leading game development engine for creating immersive 2D and 3D experiences across multiple platforms.\n",
    "- Visual Studio Code: A powerful code editor and IDE that allows for editting files, building code, and pushing and pulling to and from GitHub. "
   ]
  },
  {
   "cell_type": "markdown",
   "metadata": {},
   "source": [
    "#### Installing VS Code\n",
    "> Reference this [lesson](https://nighthawkcoders.github.io/APCSA//techtalk/tools) for MacOS and this [lesson](https://nighthawkcoders.github.io/APCSA//techtalk/vscode-wsl) for Windows with Linux to download VS Code if you havent already. "
   ]
  },
  {
   "cell_type": "markdown",
   "metadata": {},
   "source": [
    "#### Installing Unity\n",
    "> Download Unity from the [Unity website](https://unity.com/download)\n",
    "    <br>Once Unity is downloaded, create an account using an email that is not a school restricted account\n",
    "    <br>Install an Editor, if you are able install the newest editor available (Bria and Calissa used the 2020.3.48f1 editor)\n",
    "    "
   ]
  },
  {
   "cell_type": "markdown",
   "metadata": {},
   "source": [
    "##### Troubleshooting Unity Editor Installation\n",
    "\n",
    "If you are unable to install the editor, here are some potential solutions:\n",
    "1. Ensure that you have enough storage on your computer to install all of the required elements of the editor (including the Microsoft Visual 2019 Module)\n",
    "2. If you are on Windows, ensure that you are running VS Code as an administrator then restart the download\n",
    "3. Install an older version of the Editor through the Unity Hub\n",
    "4. Attempt to install at home rather than on school wifi (This is not a guaranteed solution, but something to try after all the other options)"
   ]
  },
  {
   "cell_type": "markdown",
   "metadata": {},
   "source": [
    "#### Hacks!\n",
    "1. Provide a screenshot of Unity opened and the version of editor that is install on personal laptop"
   ]
  },
  {
   "cell_type": "code",
   "execution_count": null,
   "metadata": {},
   "outputs": [],
   "source": []
  }
 ],
 "metadata": {
  "kernelspec": {
   "display_name": "Python 3 (ipykernel)",
   "language": "python",
   "name": "python3"
  },
  "language_info": {
   "codemirror_mode": {
    "name": "ipython",
    "version": 3
   },
   "file_extension": ".py",
   "mimetype": "text/x-python",
   "name": "python",
   "nbconvert_exporter": "python",
   "pygments_lexer": "ipython3",
   "version": "3.9.12"
  }
 },
 "nbformat": 4,
 "nbformat_minor": 2
}
