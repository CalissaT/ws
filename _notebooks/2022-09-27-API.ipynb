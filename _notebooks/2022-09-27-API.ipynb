{
 "cells": [
  {
   "cell_type": "markdown",
   "metadata": {},
   "source": [
    "# Weather API\n",
    "\n",
    "- toc: false\n",
    "- badges: true\n",
    "- comments: true\n",
    "- author: Calissa\n",
    "- categories: [java, labs]\n",
    "- image: images/weather.jpeg\n",
    "\n",
    "java notebook"
   ]
  },
  {
   "cell_type": "markdown",
   "metadata": {},
   "source": [
    "### Implementation of Weather API\n",
    "\n",
    "I think it would be a cool front end feature to have the color/design of the homepage to match the weather"
   ]
  },
  {
   "cell_type": "code",
   "execution_count": 6,
   "metadata": {},
   "outputs": [
    {
     "name": "stdout",
     "output_type": "stream",
     "text": [
      "Address,Date time,Latitude,Longitude,Resolved Address,Name,Wind Direction,Minimum Temperature,Maximum Temperature,Temperature,Wind Speed,Cloud Cover,Heat Index,Chance Precipitation (%),Precipitation,Sea Level Pressure,Snow Depth,Snow,Relative Humidity,Wind Gust,Wind Chill,Conditions\n",
      "\"Washington,DC,USA\",\"10/02/2022\",38.8904,-77.032,\"Washington, DC, United States\",\"Washington,DC,USA\",23.9,51.5,51.9,51.7,14.0,100.0,,100.0,0.04,1022.0,0.0,0.0,89.9,33.8,,\"Rain, Overcast\"\n",
      "\"Washington,DC,USA\",\"10/03/2022\",38.8904,-77.032,\"Washington, DC, United States\",\"Washington,DC,USA\",94.4,46.1,52.4,49.3,10.1,98.0,,100.0,0.39,1022.2,0.0,0.0,84.9,38.9,40.7,\"Rain, Overcast\"\n",
      "\"Washington,DC,USA\",\"10/04/2022\",38.8904,-77.032,\"Washington, DC, United States\",\"Washington,DC,USA\",239.6,51.3,59.4,53.9,8.0,100.0,,85.7,0.0,1018.8,0.0,0.0,63.4,30.0,39.1,\"Rain, Overcast\"\n",
      "\"Washington,DC,USA\",\"10/05/2022\",38.8904,-77.032,\"Washington, DC, United States\",\"Washington,DC,USA\",324.8,49.7,51.7,50.7,12.8,99.4,,57.1,0.23,1015.0,0.0,0.0,87.6,32.2,44.7,\"Rain, Overcast\"\n",
      "\"Washington,DC,USA\",\"10/06/2022\",38.8904,-77.032,\"Washington, DC, United States\",\"Washington,DC,USA\",272.2,51.3,71.9,61.0,4.2,11.1,,0.0,0.0,1015.5,0.0,0.0,57.2,9.6,,\"Clear\"\n",
      "\"Washington,DC,USA\",\"10/07/2022\",38.8904,-77.032,\"Washington, DC, United States\",\"Washington,DC,USA\",290.5,49.0,66.8,59.4,8.7,1.7,,19.0,0.0,1016.6,0.0,0.0,55.6,25.7,45.3,\"Clear\"\n",
      "\"Washington,DC,USA\",\"10/08/2022\",38.8904,-77.032,\"Washington, DC, United States\",\"Washington,DC,USA\",307.1,43.6,59.6,50.7,8.6,13.5,,4.8,0.0,1022.8,0.0,0.0,52.5,26.2,38.7,\"Clear\"\n",
      "\"Washington,DC,USA\",\"10/09/2022\",38.8904,-77.032,\"Washington, DC, United States\",\"Washington,DC,USA\",296.2,43.8,62.5,52.0,5.8,0.6,,0.0,0.0,1023.8,0.0,0.0,47.3,19.2,40.7,\"Clear\"\n",
      "\"Washington,DC,USA\",\"10/10/2022\",38.8904,-77.032,\"Washington, DC, United States\",\"Washington,DC,USA\",279.6,45.9,67.2,55.2,5.6,15.2,,9.5,0.0,1023.7,0.0,0.0,44.2,21.5,43.5,\"Clear\"\n",
      "\"Washington,DC,USA\",\"10/11/2022\",38.8904,-77.032,\"Washington, DC, United States\",\"Washington,DC,USA\",245.6,51.9,68.6,59.0,6.3,2.2,,4.8,0.0,1024.3,0.0,0.0,46.6,27.5,,\"Clear\"\n",
      "\"Washington,DC,USA\",\"10/12/2022\",38.8904,-77.032,\"Washington, DC, United States\",\"Washington,DC,USA\",217.8,51.7,71.1,60.7,3.3,27.1,,4.8,0.0,1024.7,0.0,0.0,53.3,18.6,,\"Partially cloudy\"\n",
      "\"Washington,DC,USA\",\"10/13/2022\",38.8904,-77.032,\"Washington, DC, United States\",\"Washington,DC,USA\",262.5,58.4,76.6,66.3,3.4,27.4,,14.3,0.0,1018.8,0.0,0.0,63.9,16.3,,\"Partially cloudy\"\n",
      "\"Washington,DC,USA\",\"10/14/2022\",38.8904,-77.032,\"Washington, DC, United States\",\"Washington,DC,USA\",152.4,60.3,77.3,67.1,3.3,33.7,,19.0,0.0,1023.1,0.0,0.0,65.8,11.2,,\"Partially cloudy\"\n",
      "\"Washington,DC,USA\",\"10/15/2022\",38.8904,-77.032,\"Washington, DC, United States\",\"Washington,DC,USA\",118.3,60.9,65.2,62.5,2.0,97.0,,14.3,0.0,1024.6,0.0,0.0,72.1,8.2,,\"Overcast\"\n",
      "\"Washington,DC,USA\",\"10/16/2022\",38.8904,-77.032,\"Washington, DC, United States\",\"Washington,DC,USA\",86.7,58.7,62.7,60.7,2.3,90.6,,4.8,0.12,1027.2,0.0,0.0,90.0,7.8,,\"Overcast\"\n",
      "\"Washington,DC,USA\",\"10/17/2022\",38.8904,-77.032,\"Washington, DC, United States\",\"Washington,DC,USA\",147.1,58.0,68.3,62.2,3.1,82.9,,28.6,0.0,1027.7,0.0,0.0,81.4,11.6,,\"Overcast\"\n",
      "\n"
     ]
    }
   ],
   "source": [
    "import java.net.URI;\n",
    "import java.net.http.HttpClient;\n",
    "import java.net.http.HttpRequest;\n",
    "import java.net.http.HttpResponse; //imports for API\n",
    "\n",
    "HttpRequest request = HttpRequest.newBuilder()\n",
    "\t\t.uri(URI.create(\"https://visual-crossing-weather.p.rapidapi.com/forecast?aggregateHours=24&location=Washington%2CDC%2CUSA&contentType=csv&unitGroup=us&shortColumnNames=0\"))\n",
    "\t\t.header(\"X-RapidAPI-Key\", \"d7c8c8031emshc7982f51947d6d4p19192fjsnc28f123f5152\")\n",
    "\t\t.header(\"X-RapidAPI-Host\", \"visual-crossing-weather.p.rapidapi.com\")\n",
    "\t\t.method(\"GET\", HttpRequest.BodyPublishers.noBody())\n",
    "\t\t.build();\n",
    "\n",
    "HttpResponse<String> response = HttpClient.newHttpClient().send(request, HttpResponse.BodyHandlers.ofString());\n",
    "\n",
    "System.out.println(response.body());"
   ]
  },
  {
   "cell_type": "code",
   "execution_count": 12,
   "metadata": {},
   "outputs": [
    {
     "name": "stdout",
     "output_type": "stream",
     "text": [
      "{\"location\":{\"name\":\"San Diego\",\"region\":\"California\",\"country\":\"USA\",\"lat\":33.02,\"lon\":-117.1,\"tz_id\":\"America/Los_Angeles\",\"localtime_epoch\":1665600304,\"localtime\":\"2022-10-12 11:45\"},\"current\":{\"last_updated_epoch\":1665599400,\"last_updated\":\"2022-10-12 11:30\",\"temp_c\":21.1,\"temp_f\":70.0,\"is_day\":1,\"condition\":{\"text\":\"Overcast\",\"icon\":\"//cdn.weatherapi.com/weather/64x64/day/122.png\",\"code\":1009},\"wind_mph\":5.6,\"wind_kph\":9.0,\"wind_degree\":270,\"wind_dir\":\"W\",\"pressure_mb\":1020.0,\"pressure_in\":30.11,\"precip_mm\":0.0,\"precip_in\":0.0,\"humidity\":76,\"cloud\":100,\"feelslike_c\":21.1,\"feelslike_f\":70.0,\"vis_km\":13.0,\"vis_miles\":8.0,\"uv\":5.0,\"gust_mph\":3.4,\"gust_kph\":5.4}}\n"
     ]
    }
   ],
   "source": [
    "HttpRequest request = HttpRequest.newBuilder()\n",
    "\t\t.uri(URI.create(\"https://weatherapi-com.p.rapidapi.com/current.json?q=92127\"))\n",
    "\t\t.header(\"X-RapidAPI-Key\", \"d7c8c8031emshc7982f51947d6d4p19192fjsnc28f123f5152\")\n",
    "\t\t.header(\"X-RapidAPI-Host\", \"weatherapi-com.p.rapidapi.com\")\n",
    "\t\t.method(\"GET\", HttpRequest.BodyPublishers.noBody())\n",
    "\t\t.build();\n",
    "\n",
    "HttpResponse<String> response = HttpClient.newHttpClient().send(request, HttpResponse.BodyHandlers.ofString());\n",
    "\n",
    "System.out.println(response.body());\n",
    "\n",
    "\n",
    "public class weatherBackground {\n",
    "\n",
    "\tpublic static void main(String[] args){\n",
    "\n",
    "\t\t\n",
    "\t}\n",
    "\n",
    "}"
   ]
  }
 ],
 "metadata": {
  "kernelspec": {
   "display_name": "Java",
   "language": "java",
   "name": "java"
  },
  "language_info": {
   "codemirror_mode": "java",
   "file_extension": ".jshell",
   "mimetype": "text/x-java-source",
   "name": "java",
   "pygments_lexer": "java",
   "version": "11.0.16.1+0"
  },
  "orig_nbformat": 4,
  "vscode": {
   "interpreter": {
    "hash": "b0fa6594d8f4cbf19f97940f81e996739fb7646882a419484c72d19e05852a7e"
   }
  }
 },
 "nbformat": 4,
 "nbformat_minor": 2
}
