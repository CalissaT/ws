{
 "cells": [
  {
   "cell_type": "markdown",
   "metadata": {},
   "source": [
    "# Unit 4 HW\n",
    "\n",
    "- toc: false\n",
    "- badges: true\n",
    "- comments: true\n",
    "- author: Calissa\n",
    "- categories: [java]\n",
    "- \n",
    "\n",
    "java notebook"
   ]
  },
  {
   "cell_type": "code",
   "execution_count": 15,
   "metadata": {
    "vscode": {
     "languageId": "java"
    }
   },
   "outputs": [
    {
     "name": "stdout",
     "output_type": "stream",
     "text": [
      "Kice job!\n",
      "code code code\n",
      "supercalifragilisticexpialidocious\n"
     ]
    }
   ],
   "source": [
    "public class CaesarCipher {\n",
    "\n",
    "    public static void main(String[] args) {\n",
    "\n",
    "        String[] letters = {\"a\", \"b\", \"c\", \"d\", \"e\", \"f\", \"g\", \"h\", \"i\", \"j\", \"k\", \"l\", \"m\", \"n\", \"o\", \"p\", \"q\", \"r\", \"s\", \"t\", \"u\", \"v\", \"w\", \"x\", \"y\", \"z\"};\n",
    "        String message1 = \"Kfzb gly!\";\n",
    "        System.out.println(cipher(message1));\n",
    "        String message2 = \"zlab zlab zlab\";\n",
    "        System.out.println(cipher(message2));\n",
    "        String message3 = \"prmbozxifcoxdfifpqfzbumfxifalzflrp\";\n",
    "        System.out.println(cipher(message3));\n",
    "\n",
    "    }\n",
    "\n",
    "    public static String cipher (String message){\n",
    "        String decoded = \"\";\n",
    "        //for every letter in the message\n",
    "        for (int i = 0; i < message.length(); i++){\n",
    "            //charAt returns value at specified index\n",
    "            //if the character at the index is greater than the index of a but less than the index of z\n",
    "            if(message.charAt(i) < 'a' || message.charAt(i) > 'z'){\n",
    "                decoded += message.charAt(i);\n",
    "                continue;\n",
    "            }\n",
    "            //the index of the letter \n",
    "            int letter = message.charAt(i)-'a';\n",
    "            //adds three and uses the modulo operator to ensure it doesn't overflow\n",
    "            int new_letter = (letter+3)%26;\n",
    "            decoded += (char)(new_letter+'a');\n",
    "        }\n",
    "        return decoded;\n",
    "    }\n",
    "}\n",
    "\n",
    "CaesarCipher.main(null);"
   ]
  }
 ],
 "metadata": {
  "kernelspec": {
   "display_name": "Java",
   "language": "java",
   "name": "java"
  },
  "language_info": {
   "codemirror_mode": "java",
   "file_extension": ".jshell",
   "mimetype": "text/x-java-source",
   "name": "Java",
   "pygments_lexer": "java",
   "version": "11.0.16.1+0"
  },
  "orig_nbformat": 4
 },
 "nbformat": 4,
 "nbformat_minor": 2
}
