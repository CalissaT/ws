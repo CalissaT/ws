{
 "cells": [
  {
   "attachments": {},
   "cell_type": "markdown",
   "metadata": {},
   "source": [
    "# Arrays and 2D Arrays\n",
    "- toc: false\n",
    "- badges: true\n",
    "- comments: true\n",
    "- author: Calissa"
   ]
  },
  {
   "attachments": {},
   "cell_type": "markdown",
   "metadata": {},
   "source": [
    "### Arrays\n",
    "Arrays are 10-15% of the exam, so it is very important to understand the basics of arrays. Collegeboard will typically test you on:\n",
    "- Representing multiple items as array objects\n",
    "- Traversing an array by accessing the elements using iteration statements\n",
    "- Standard algorithms that utilize array traversals to perform functions"
   ]
  },
  {
   "attachments": {},
   "cell_type": "markdown",
   "metadata": {},
   "source": [
    "### Array Basics\n",
    "An array can contain primitives (int, char, etc) and object references of a class. Primitive data types have their actual values stored in contiguous memory  location.\n",
    "\n",
    "Important things to note are that:\n",
    "- Arrays are fixed in size\n",
    "- Arrays can be used as a static field, local variable, or method parameter\n",
    "\n",
    "![array](https://media.geeksforgeeks.org/wp-content/uploads/Arrays1.png)"
   ]
  },
  {
   "cell_type": "code",
   "execution_count": 16,
   "metadata": {
    "vscode": {
     "languageId": "java"
    }
   },
   "outputs": [],
   "source": [
    "//BASIC ARRAY CONCEPTS\n",
    "\n",
    "//Declare an array and then allocate memory\n",
    "int myArray[];\n",
    "myArray = new int[4];\n",
    "\n",
    "//Declare while directly assign values\n",
    "int[] myArray1 = new int[]{ 1, 6, 7, 9};\n",
    "\n",
    "//Initialize element\n",
    "myArray[0] = 2;\n",
    "\n",
    "//Create an array of objects\n",
    "Object[] arr = new Object[5];"
   ]
  },
  {
   "attachments": {},
   "cell_type": "markdown",
   "metadata": {},
   "source": [
    "### Traversing an Array\n",
    "Common ways to traverse an array include for loops and while loops. "
   ]
  },
  {
   "cell_type": "code",
   "execution_count": 18,
   "metadata": {
    "vscode": {
     "languageId": "java"
    }
   },
   "outputs": [
    {
     "name": "stdout",
     "output_type": "stream",
     "text": [
      "0 6 8 2 "
     ]
    }
   ],
   "source": [
    "//Basic for loop to print elements of array\n",
    "int[] arr1 = {0, 6, 8, 2};\n",
    "\n",
    "// Looping through array by incrementing value of i\n",
    "//'i' is an index of array 'arr1'\n",
    "for (int i = 0; i < arr1.length; i++) {\n",
    "\n",
    "    // Print array element present at index i\n",
    "    System.out.print(arr1[i] + \" \");\n",
    "\n",
    "}\n",
    "\n",
    "/* NOTE: You may also use an enhanced for loop\n",
    "\n",
    "for(int index: arr){\n",
    "    System.out.println(index)\n",
    "}\n",
    "\n",
    "*/\n"
   ]
  },
  {
   "cell_type": "code",
   "execution_count": null,
   "metadata": {
    "vscode": {
     "languageId": "java"
    }
   },
   "outputs": [],
   "source": [
    "//HACK!!!\n",
    "//Create a method that sets each element of an array to 0\n",
    "\n"
   ]
  },
  {
   "attachments": {},
   "cell_type": "markdown",
   "metadata": {},
   "source": [
    "### Developing Algorithms Using Arrays\n",
    "Arrays are an essential part in developing algorithms. It is important to understand how to traverse an array and the structure of an array to accomplish this.\n",
    "\n",
    "There are lots of algorithms you can create,and CollegeBoard goes over a lot of good examples of this. They go over this in the 6.4 unit videos. "
   ]
  },
  {
   "cell_type": "code",
   "execution_count": 19,
   "metadata": {
    "vscode": {
     "languageId": "java"
    }
   },
   "outputs": [
    {
     "data": {
      "text/plain": [
       "10"
      ]
     },
     "execution_count": 19,
     "metadata": {},
     "output_type": "execute_result"
    }
   ],
   "source": [
    "//Example finding the max in an array. \n",
    "\n",
    "//Finds the maximum in an array\n",
    "public static int maximum(int[] array) {\n",
    "    //variable that holds value of max value\n",
    "    int maxValue = array[0];\n",
    "    //for each number in the array..\n",
    "    for (int number: array) {\n",
    "      //checks if current index is greater than maxValue\n",
    "      if (number > maxValue) {\n",
    "        //if new max value found, replace current maxValue\n",
    "        maxValue = number;\n",
    "      }\n",
    "    }\n",
    "    return maxValue;\n",
    "  }\n",
    "\n",
    "//tester array\n",
    "int[] test = {3, 5, 7, 2, 10};\n",
    "\n",
    "//returns 10\n",
    "maximum(test);\n",
    "\n",
    "//HACK!!!\n",
    "//What would we have to change in this algorithm if we wanted to find the min"
   ]
  }
 ],
 "metadata": {
  "kernelspec": {
   "display_name": "Java",
   "language": "java",
   "name": "java"
  },
  "language_info": {
   "codemirror_mode": "java",
   "file_extension": ".jshell",
   "mimetype": "text/x-java-source",
   "name": "Java",
   "pygments_lexer": "java",
   "version": "17.0.5+0"
  },
  "orig_nbformat": 4
 },
 "nbformat": 4,
 "nbformat_minor": 2
}
