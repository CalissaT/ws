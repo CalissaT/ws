{
 "cells": [
  {
   "attachments": {},
   "cell_type": "markdown",
   "metadata": {},
   "source": [
    "# Data Types Week 25\n",
    "\n",
    "- toc: false\n",
    "- badges: true\n",
    "- comments: true\n",
    "- author: Calissa"
   ]
  },
  {
   "attachments": {},
   "cell_type": "markdown",
   "metadata": {},
   "source": [
    "### Key Terms\n",
    "- Reference Data: Reference to memory location, address points to where the variables are actually located. Used to store complex data structures (objects/arrays)\n",
    "- Primitives: Local variables, stored directly in memory and passed by value\n",
    "- Wrapper Class: A class that wraps a primitive data type into an object"
   ]
  },
  {
   "attachments": {},
   "cell_type": "markdown",
   "metadata": {},
   "source": [
    "Auto-boxing: Int converting to a class Integer, it does this automatically \n",
    "\n",
    "```\n",
    "// Both of these create new objects\n",
    "Integer n = 5; // Auto-boxing, Integer n = new Integer(5);\n",
    "n += 5;  // Auto-boxing, Integer n = new Integer(n + 5);\n",
    "\n",
    "```"
   ]
  },
  {
   "attachments": {},
   "cell_type": "markdown",
   "metadata": {},
   "source": [
    "### Examples"
   ]
  },
  {
   "cell_type": "code",
   "execution_count": 20,
   "metadata": {},
   "outputs": [
    {
     "name": "stdout",
     "output_type": "stream",
     "text": [
      "Eleven\n",
      "1011\n"
     ]
    }
   ],
   "source": [
    "// Binary addition example adding 5 and 6\n",
    "\n",
    "//setting our binary string values\n",
    "String five = \"0101\";\n",
    "String six = \"0110\";\n",
    "\n",
    "//converting binary strings to decimal number\n",
    "int num1 = Integer.parseInt(five, 2);\n",
    "int num2 = Integer.parseInt(six, 2);\n",
    "\n",
    "//Adding two decimals together\n",
    "int sum = num1 + num2;\n",
    "\n",
    "//Converting decimal to binary string\n",
    "String eleven = Integer.toBinaryString(sum);\n",
    "\n",
    "System.out.println(\"Eleven\");\n",
    "System.out.println(eleven);\n"
   ]
  },
  {
   "cell_type": "code",
   "execution_count": 3,
   "metadata": {},
   "outputs": [
    {
     "name": "stdout",
     "output_type": "stream",
     "text": [
      "Main method before changeInt(n): n = 5\n",
      "In changeInt method\n",
      "\tBefore n += 10: n = 5\n",
      "\tAfter n += 10: n = 15\n",
      "Main method after changeInt(n): n = 5\n"
     ]
    }
   ],
   "source": [
    "//passes by value\n",
    "public class IntByValue {\n",
    "    \n",
    "    public static void changeInt(int n) {\n",
    "        System.out.println(\"In changeInt method\");\n",
    "        System.out.println(\"\\tBefore n += 10: n = \" + n); // prints 5\n",
    "        n = n += 10;\n",
    "        System.out.println(\"\\tAfter n += 10: n = \" + n); // prints 10\n",
    "    }\n",
    "\n",
    "    public static void main(String[] args) {\n",
    "        //starts with int n\n",
    "        int n = 5;\n",
    "        System.out.println(\"Main method before changeInt(n): n = \" + n); // prints 5\n",
    "        //changes int to 15\n",
    "        changeInt(n);\n",
    "        //still prints out 5, because it changeInt uses reference \n",
    "        //and makes its own n, which is not the same as the local n in main\n",
    "        System.out.println(\"Main method after changeInt(n): n = \" + n); // still prints 5\n",
    "    }\n",
    "}\n",
    "IntByValue.main(null);"
   ]
  },
  {
   "cell_type": "code",
   "execution_count": 4,
   "metadata": {},
   "outputs": [
    {
     "name": "stdout",
     "output_type": "stream",
     "text": [
      "Main method before changeInteger(n): n = 5 hash code = 5\n",
      "In changeInteger method\n",
      "\tBefore change: n = 5 hash code = 5\n",
      "\tAfter change: n = 15 hash code = 15\n",
      "Main method after changeInteger(n): n = 5 hash code = 5\n"
     ]
    }
   ],
   "source": [
    "//passes by value\n",
    "public class IntegerByValueOrReference {\n",
    "    \n",
    "    public static void changeInteger(Integer n) {\n",
    "        System.out.println(\"In changeInteger method\");\n",
    "        System.out.println(\"\\tBefore change: n = \" + \n",
    "                            n + // prints 5\n",
    "                            \" hash code = \" + \n",
    "                            n.hashCode()); \n",
    "\n",
    "        n += 10;  // behind the scenes, this is:  n = new Integer(n+10)\n",
    "        \n",
    "        System.out.println(\"\\tAfter change: n = \" + \n",
    "                            n + // prints 15\n",
    "                            \" hash code = \" + \n",
    "                            n.hashCode()); \n",
    "    }\n",
    "\n",
    "    public static void main(String[] args) {\n",
    "        Integer n = 5;\n",
    "        System.out.println(\"Main method before changeInteger(n): n = \" + \n",
    "                            n + // prints 5\n",
    "                            \" hash code = \" + \n",
    "                            n.hashCode()); \n",
    "\n",
    "        changeInteger(n);\n",
    "        \n",
    "        System.out.println(\"Main method after changeInteger(n): n = \" + \n",
    "                            n +  // now prints 15\n",
    "                            \" hash code = \" + \n",
    "                            n.hashCode());     \n",
    "    }\n",
    "}\n",
    "IntegerByValueOrReference.main(null);"
   ]
  },
  {
   "cell_type": "code",
   "execution_count": 5,
   "metadata": {},
   "outputs": [
    {
     "name": "stdout",
     "output_type": "stream",
     "text": [
      "Main method before changeAtomicInteger(n): n = 5 hash code = 558640399\n",
      "In changeAtomicInteger method\n",
      "\tBefore change: n = 5 hash code = 558640399\n",
      "\tAfter change: n = 15 hash code = 558640399\n",
      "Main method after changeAtomicInteger(n): n = 15 hash code = 558640399\n"
     ]
    }
   ],
   "source": [
    "//passes by reference\n",
    "//swaps values to low high order\n",
    "import java.util.concurrent.atomic.AtomicInteger;\n",
    "\n",
    "public class PassByReference {\n",
    "    \n",
    "    public static void changeAtomicInteger(AtomicInteger n) {\n",
    "        System.out.println(\"In changeAtomicInteger method\");\n",
    "        System.out.println(\"\\tBefore change: n = \" + \n",
    "                            n + // prints 5\n",
    "                            \" hash code = \" + \n",
    "                            n.hashCode()); \n",
    "        n.set(n.get() + 10);  // at this point, we are clearly working with reference data type\n",
    "        System.out.println(\"\\tAfter change: n = \" + \n",
    "                            n + // prints 15\n",
    "                            \" hash code = \" + \n",
    "                            n.hashCode()); \n",
    "}\n",
    "\n",
    "    public static void main(String[] args) {\n",
    "        AtomicInteger n = new AtomicInteger(5); // unlike conventional wrapper class, this requires new\n",
    "        System.out.println(\"Main method before changeAtomicInteger(n): n = \" + \n",
    "                            n + // prints 5\n",
    "                            \" hash code = \" + \n",
    "                            n.hashCode()); \n",
    "        changeAtomicInteger(n);\n",
    "        System.out.println(\"Main method after changeAtomicInteger(n): n = \" + \n",
    "                            n +  // now prints 15\n",
    "                            \" hash code = \" + \n",
    "                            n.hashCode()); \n",
    "    }\n",
    "}\n",
    "PassByReference.main(null);"
   ]
  },
  {
   "cell_type": "code",
   "execution_count": 7,
   "metadata": {},
   "outputs": [
    {
     "name": "stdout",
     "output_type": "stream",
     "text": [
      "Before: 21 16\n",
      "After: 16 21\n",
      "\n",
      "Before: 16 21\n",
      "After: 16 21\n",
      "\n",
      "Before: 16 -1\n",
      "After: -1 16\n",
      "\n"
     ]
    }
   ],
   "source": [
    "//passes by reference\n",
    "public class IntByReference {\n",
    "    //property/attribute of the class\n",
    "    private int value;\n",
    "\n",
    "    public IntByReference(Integer value) {\n",
    "        this.value = value;\n",
    "    }\n",
    "\n",
    "    public String toString() {\n",
    "        return (String.format(\"%d\", this.value));\n",
    "    }\n",
    "\n",
    "    public void swapToLowHighOrder(IntByReference i) {\n",
    "        if (this.value > i.value) {\n",
    "            int tmp = this.value;\n",
    "            this.value = i.value;\n",
    "            i.value = tmp;\n",
    "        }\n",
    "    }\n",
    "\n",
    "    public static void swapper(int n0, int n1) {\n",
    "        IntByReference a = new IntByReference(n0);\n",
    "        IntByReference b = new IntByReference(n1);\n",
    "        System.out.println(\"Before: \" + a + \" \" + b);\n",
    "        a.swapToLowHighOrder(b);  // conditionally build swap method to change values of a, b\n",
    "        System.out.println(\"After: \" + a + \" \" + b);\n",
    "        System.out.println();\n",
    "    }\n",
    "\n",
    "    public static void main(String[] ags) {\n",
    "        IntByReference.swapper(21, 16);\n",
    "        IntByReference.swapper(16, 21);\n",
    "        IntByReference.swapper(16, -1);\n",
    "    }\n",
    "\n",
    "}\n",
    "IntByReference.main(null);"
   ]
  },
  {
   "attachments": {},
   "cell_type": "markdown",
   "metadata": {},
   "source": [
    "### Exploring Datatypes "
   ]
  },
  {
   "cell_type": "code",
   "execution_count": null,
   "metadata": {},
   "outputs": [],
   "source": []
  },
  {
   "attachments": {},
   "cell_type": "markdown",
   "metadata": {},
   "source": [
    "### Method and Control Structures FRQ 2022\n",
    "\n",
    "Users of a website are asked to provide a review of the website at the end of each visit. Each review,\n",
    "represented by an object of the Review class, consists of an integer indicating the user’s rating of the\n",
    "website and an optional String comment field. The comment field in a Review object ends with a\n",
    "period (\".\"), exclamation point (\"!\"), or letter, or is a String of length 0 if the user did not enter\n",
    "a comment.\n",
    "\n",
    "```\n",
    "public class Review\n",
    "{\n",
    "    private int rating;\n",
    "    private String comment;\n",
    "    /** Precondition: r >= 0\n",
    "    * c is not null.\n",
    "    */\n",
    "    public Review(int r, String c)\n",
    "    {\n",
    "        rating = r;\n",
    "        comment = c;\n",
    "    }\n",
    "    public int getRating()\n",
    "    {\n",
    "        return rating;\n",
    "    }\n",
    "    public String getComment()\n",
    "    {\n",
    "        return comment;\n",
    "    }\n",
    "    // There may be instance variables, constructors, and methods that are not shown.\n",
    "}\n",
    "\n",
    "```\n",
    "The ReviewAnalysis class contains methods used to analyze the reviews provided by users. You will\n",
    "write two methods of the ReviewAnalysis class.\n",
    "\n",
    "```\n",
    "public class ReviewAnalysis\n",
    "{\n",
    "    /** All user reviews to be included in this analysis */\n",
    "    private Review[] allReviews;\n",
    "    /** Initializes allReviews to contain all the Review objects to be analyzed */\n",
    "    public ReviewAnalysis()\n",
    "    { /* implementation not shown */ }\n",
    "    /** Returns a double representing the average rating of all the Review objects to be\n",
    "    * analyzed, as described in part (a)\n",
    "    * Precondition: allReviews contains at least one Review.\n",
    "    * No element of allReviews is null.\n",
    "    */\n",
    "    public double getAverageRating()\n",
    "    { /* to be implemented in part (a) */ }\n",
    "    /** Returns an ArrayList of String objects containing formatted versions of\n",
    "    * selected user comments, as described in part (b)\n",
    "    * Precondition: allReviews contains at least one Review.\n",
    "    * No element of allReviews is null.\n",
    "    * Postcondition: allReviews is unchanged.\n",
    "    */\n",
    "    public ArrayList<String> collectComments()\n",
    "    { /* to be implemented in part (b) */ } \n",
    "}\n",
    "\n",
    "```"
   ]
  },
  {
   "attachments": {},
   "cell_type": "markdown",
   "metadata": {},
   "source": [
    "(Part A)\n",
    "\n",
    "Write the ReviewAnalysis method getAverageRating, which returns the average rating\n",
    "(arithmetic mean) of all elements of allReviews. For example, getAverageRating would\n",
    "return 3.4 if allReviews contained the following Review objects.\n",
    "\n",
    "| 0 | 1 | 2 | 3 | 4 |\n",
    "| -- | -- | -- | -- | -- |\n",
    "| 4 | 3 | 5 | 2 | 3 |\n",
    "| \"Good! Thx\" | \"OK site\" | \"Great! | \"Poor! Bad. \" | \" \" | \n",
    "\n",
    "\n",
    "```\n",
    "Complete method getAverageRating.\n",
    "/** Returns a double representing the average rating of all the Review objects to be\n",
    "* analyzed, as described in part (a)\n",
    "* Precondition: allReviews contains at least one Review.\n",
    "* No element of allReviews is null.\n",
    "*/\n",
    "public double getAverageRating() \n",
    "\n",
    "```"
   ]
  },
  {
   "cell_type": "code",
   "execution_count": 5,
   "metadata": {},
   "outputs": [],
   "source": [
    "public double getAverageRating(){\n",
    "    //total sum of ratings\n",
    "    int totalRating = 0;\n",
    "    //amount of ratings in allReviews\n",
    "    int reviewNums = 0;\n",
    "\n",
    "    for (Review rating : allReviews){\n",
    "        //adds rating value to total\n",
    "        totalRating += rating.getRating();\n",
    "        //adds one to count of total number of ratings\n",
    "        reviewNums += 1;\n",
    "    }\n",
    "\n",
    "    //creates new double value for average\n",
    "    double averageRating = totalRating / reviewNums; \n",
    "    return averageRating;\n",
    "}"
   ]
  },
  {
   "attachments": {},
   "cell_type": "markdown",
   "metadata": {},
   "source": [
    "(Part B)\n",
    "\n",
    "Write the ReviewAnalysis method collectComments, which collects and formats only comments that contain an exclamation point. The method returns an ArrayList of String\n",
    "objects containing copies of user comments from allReviews that contain an exclamation point,formatted as follows. An empty ArrayList is returned if no comment in allReviews contains an exclamation point.\n",
    "- The String inserted into the ArrayList to be returned begins with the index of\n",
    "the Review in allReviews.\n",
    "- The index is immediately followed by a hyphen (\"-\").\n",
    "- The hyphen is followed by a copy of the original comment.\n",
    "- The String must end with either a period or an exclamation point. If the original comment from allReviews does not end in either a period or an exclamation point, a period is added.\n",
    "\n",
    "The following example of allReviews is repeated from part (a)\n",
    "| 0 | 1 | 2 | 3 | 4 |\n",
    "| -- | -- | -- | -- | -- |\n",
    "| 4 | 3 | 5 | 2 | 3 |\n",
    "| \"Good! Thx\" | \"OK site\" | \"Great! | \"Poor! Bad. \" | \" \" | "
   ]
  },
  {
   "cell_type": "code",
   "execution_count": null,
   "metadata": {},
   "outputs": [],
   "source": [
    "public ArrayList<String> collectComments()\n",
    "{\n",
    "  //creates new strings arrayList called commentsTotal\n",
    "  ArrayList<String> commentsTotal = new ArrayList<String>();\n",
    "  \n",
    "  //for each review in allReview\n",
    "  for(int i = 0; i < allReviews.length; i++)\n",
    "  {\n",
    "    //gets a comment from allReviews\n",
    "    String comment = allReviews[i].getComment();\n",
    "    //gets the index of the ! if there is one\n",
    "    if(comment.indexOf(\"!\") >= 0)\n",
    "    {\n",
    "      //prints index with \"-\" then comment\n",
    "      String formatted = i + \"-\" + comment;\n",
    "      //creates lastChar, which stores the last character in the formatted string\n",
    "      String lastChar = formatted.substring(formatted.length() - 1);\n",
    "      //if the lastChar isn't \"!\" or \".\" it adds a period\n",
    "      if( ! lastChar.equals(\"!\") && ! lastChar.equals(\".\"))\n",
    "        formatted += \".\";\n",
    "      //adds all the formatted comments into commentsTotal\n",
    "      commentsTotal.add(formatted);\n",
    "    }\n",
    "  }\n",
    "\n",
    "  return commentsTotal;\n",
    "}"
   ]
  }
 ],
 "metadata": {
  "kernelspec": {
   "display_name": "Java",
   "language": "java",
   "name": "java"
  },
  "language_info": {
   "codemirror_mode": "java",
   "file_extension": ".jshell",
   "mimetype": "text/x-java-source",
   "name": "java",
   "pygments_lexer": "java",
   "version": "17.0.5+0"
  },
  "orig_nbformat": 4
 },
 "nbformat": 4,
 "nbformat_minor": 2
}
