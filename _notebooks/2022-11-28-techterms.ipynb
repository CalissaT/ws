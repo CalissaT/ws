{
 "cells": [
  {
   "cell_type": "markdown",
   "metadata": {},
   "source": [
    "### Tech Terms\n",
    "\n",
    "- toc: false\n",
    "- badges: true\n",
    "- comments: true\n",
    "- author: Calissa\n",
    "- categories: [java]\n",
    "- image: images/collegeboard.jpeg\n",
    "\n",
    "java notebook"
   ]
  },
  {
   "cell_type": "markdown",
   "metadata": {},
   "source": [
    "### Casting\n",
    "Type casting is when you assign a value of one primitive data type to another type.\n",
    "\n",
    "Widening: (automatically) - converting a smaller type to a larger type size\n",
    "\n",
    "Narrowing: (manually) - converting a larger type to a smaller size type"
   ]
  },
  {
   "cell_type": "code",
   "execution_count": 17,
   "metadata": {},
   "outputs": [
    {
     "name": "stdout",
     "output_type": "stream",
     "text": [
      "1\n"
     ]
    }
   ],
   "source": [
    "// casting in the case of division \n",
    "\n",
    "public class division{\n",
    "    public static void main(String args[]){\n",
    "    int a = 2;\n",
    "    int b = 3;\n",
    "\n",
    "    System.out.println(b/a);\n",
    "}\n",
    "    \n",
    "}\n",
    "\n",
    "division.main(null);"
   ]
  },
  {
   "cell_type": "code",
   "execution_count": 5,
   "metadata": {},
   "outputs": [
    {
     "name": "stdout",
     "output_type": "stream",
     "text": [
      "Widening\n",
      "2\n",
      "2.0\n",
      "------\n",
      "Narrowing\n",
      "2.99\n",
      "2\n"
     ]
    }
   ],
   "source": [
    "public class casting{\n",
    "    public static void main(String args[]){\n",
    "    int a = 2;\n",
    "    double b = a;\n",
    "\n",
    "    double c = 2.99;\n",
    "    int d = (int)c;\n",
    "\n",
    "    System.out.println(\"Widening\");\n",
    "    System.out.println(a);\n",
    "    System.out.println(b);\n",
    "    System.out.println(\"------\");\n",
    "\n",
    "    System.out.println(\"Narrowing\");\n",
    "    System.out.println(c);\n",
    "    System.out.println(d);\n",
    "}\n",
    "    \n",
    "}\n",
    "casting.main(null);"
   ]
  },
  {
   "cell_type": "markdown",
   "metadata": {},
   "source": [
    "### Wrapper Classes\n",
    "\n",
    "In cases such as arrayLists, sometimes data can only be stored as objects. To get around this, we used wrapper classes to store primitive data types as objects.\n",
    "\n",
    "These wrapper classes also have corresponding methods "
   ]
  },
  {
   "cell_type": "code",
   "execution_count": 1,
   "metadata": {},
   "outputs": [
    {
     "ename": "CompilationException",
     "evalue": "",
     "output_type": "error",
     "traceback": [
      "\u001b[1m\u001b[30m|   \u001b[1m\u001b[30mArrayList<\u001b[0m\u001b[1m\u001b[30m\u001b[41mint\u001b[0m\u001b[1m\u001b[30m> myNumbers = new ArrayList<int>(); // it cannot store integers\u001b[0m",
      "\u001b[1m\u001b[31munexpected type\u001b[0m",
      "\u001b[1m\u001b[31m  required: reference\u001b[0m",
      "\u001b[1m\u001b[31m  found:    int\u001b[0m",
      "",
      "\u001b[1m\u001b[30m|   \u001b[1m\u001b[30mArrayList<int> myNumbers = new ArrayList<\u001b[0m\u001b[1m\u001b[30m\u001b[41mint\u001b[0m\u001b[1m\u001b[30m>(); // it cannot store integers\u001b[0m",
      "\u001b[1m\u001b[31munexpected type\u001b[0m",
      "\u001b[1m\u001b[31m  required: reference\u001b[0m",
      "\u001b[1m\u001b[31m  found:    int\u001b[0m",
      ""
     ]
    }
   ],
   "source": [
    "ArrayList<int> myNumbers = new ArrayList<int>(); // it cannot store integers"
   ]
  },
  {
   "cell_type": "code",
   "execution_count": 2,
   "metadata": {},
   "outputs": [],
   "source": [
    "ArrayList<Integer> myNumbers = new ArrayList<Integer>(); // stores the object as an integer wrapper class"
   ]
  },
  {
   "cell_type": "markdown",
   "metadata": {},
   "source": [
    "### Concatenation\n",
    "\n",
    "Concatenation is combining two or more strings using the \"+\", \"+=\", or concat() method\n",
    "\n",
    "You must use the Datatype.toString(var) method to convert different datatypes to strings"
   ]
  },
  {
   "cell_type": "code",
   "execution_count": 9,
   "metadata": {},
   "outputs": [
    {
     "name": "stdout",
     "output_type": "stream",
     "text": [
      "orange\n",
      "orange\n"
     ]
    }
   ],
   "source": [
    "public class concat{\n",
    "    public static void main(String args[]){\n",
    "        String text1 = \"ora\";\n",
    "        String text2 = \"nge\";\n",
    "\n",
    "        String fruit1 = text1 + text2;\n",
    "        String fruit2 = text1.concat(text2);\n",
    "\n",
    "        System.out.println(fruit1);\n",
    "        System.out.println(fruit2);\n",
    "}\n",
    "    \n",
    "}\n",
    "concat.main(null);"
   ]
  },
  {
   "cell_type": "markdown",
   "metadata": {},
   "source": [
    "### Math Class\n",
    "\n",
    "The Java Math class provides several methods to perform calculations and other functions involving numbers. "
   ]
  },
  {
   "cell_type": "code",
   "execution_count": 14,
   "metadata": {},
   "outputs": [
    {
     "name": "stdout",
     "output_type": "stream",
     "text": [
      "0.4452733827420724\n"
     ]
    }
   ],
   "source": [
    "public class random{\n",
    "    public static void main(String args[]){\n",
    "        double random = Math.random();\n",
    "        System.out.println(random);\n",
    "}\n",
    "    \n",
    "}\n",
    "random.main(null);"
   ]
  },
  {
   "cell_type": "markdown",
   "metadata": {},
   "source": [
    "### Compound Boolean Expressions\n",
    "\n",
    "Using the (AND) && and (OR) || operations in conditionals "
   ]
  },
  {
   "cell_type": "code",
   "execution_count": 17,
   "metadata": {},
   "outputs": [
    {
     "name": "stdout",
     "output_type": "stream",
     "text": [
      "a is between 0 and 10\n"
     ]
    }
   ],
   "source": [
    "public class compoundBooleans {\n",
    "    public static void main(String args[]){\n",
    "        int a = 1;\n",
    "\n",
    "        if (a < 10 && a > 0){\n",
    "            System.out.println(\"a is between 0 and 10\");\n",
    "        }\n",
    "        else {\n",
    "            System.out.println(\"a is either negative or greater than 10\");\n",
    "        }\n",
    "}\n",
    "    \n",
    "}\n",
    "compoundBooleans.main(null);"
   ]
  },
  {
   "cell_type": "markdown",
   "metadata": {},
   "source": [
    "### Truth Tables\n",
    "\n",
    "Booleans return only true or false, and we use truth tables to organize the outputs of an operation\n",
    "\n",
    "\n",
    "<b>a=true, b=false, c=true, d=true</b>\n",
    "<table>\n",
    "    <tr>\n",
    "        <td></td>\n",
    "        <th>AND</th>\n",
    "        <th>OR</th>\n",
    "        <th>XOR</th>\n",
    "    </tr>\n",
    "    <tr>\n",
    "        <th>A, B</th>\n",
    "        <td>False</td>\n",
    "        <td>True</td>\n",
    "        <td>True</td>\n",
    "    </tr>\n",
    "    <tr>\n",
    "        <th>C, D</th>\n",
    "        <td>True</td>\n",
    "        <td>True</td>\n",
    "        <td>False</td>\n",
    "    </tr>\n",
    "</table>"
   ]
  },
  {
   "cell_type": "markdown",
   "metadata": {},
   "source": [
    "### De Morgan's Law\n",
    "\n"
   ]
  }
 ],
 "metadata": {
  "kernelspec": {
   "display_name": "Java",
   "language": "java",
   "name": "java"
  },
  "language_info": {
   "codemirror_mode": "java",
   "file_extension": ".jshell",
   "mimetype": "text/x-java-source",
   "name": "java",
   "pygments_lexer": "java",
   "version": "17.0.5+0"
  },
  "orig_nbformat": 4,
  "vscode": {
   "interpreter": {
    "hash": "b0fa6594d8f4cbf19f97940f81e996739fb7646882a419484c72d19e05852a7e"
   }
  }
 },
 "nbformat": 4,
 "nbformat_minor": 2
}
