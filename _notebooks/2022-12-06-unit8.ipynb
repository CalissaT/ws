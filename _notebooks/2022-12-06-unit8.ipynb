{
 "cells": [
  {
   "cell_type": "markdown",
   "metadata": {},
   "source": [
    "# Unit 8 2D Arrays\n",
    "\n",
    "- toc: false\n",
    "- badges: true\n",
    "- comments: true\n",
    "- author: Calissa\n",
    "- categories: [java]\n",
    "- image: images/collegeboard.jpeg\n",
    "\n",
    "java notebook"
   ]
  },
  {
   "cell_type": "markdown",
   "metadata": {},
   "source": [
    "### Hack 1"
   ]
  },
  {
   "cell_type": "code",
   "execution_count": 14,
   "metadata": {},
   "outputs": [
    {
     "name": "stdout",
     "output_type": "stream",
     "text": [
      "i\n"
     ]
    }
   ],
   "source": [
    "public class Test {\n",
    "\n",
    "    public static void main(String[] args) {\n",
    " \n",
    "      String[][] arr = {\n",
    "         { \"a\", \"f\", \"g\" },\n",
    "         { \"b\", \"e\", \"h\" },\n",
    "         { \"c\", \"d\", \"i\" }\n",
    "      };\n",
    " \n",
    "      // Print the last element in the array!\n",
    "      int row = arr.length - 1;\n",
    "      int col = arr[0].length - 1;\n",
    "      \n",
    "      System.out.println(arr[row][col]);\n",
    "       \n",
    "    }\n",
    " \n",
    " }\n",
    " Test.main(null);"
   ]
  },
  {
   "cell_type": "markdown",
   "metadata": {},
   "source": [
    "### Hack 2"
   ]
  },
  {
   "cell_type": "code",
   "execution_count": 15,
   "metadata": {},
   "outputs": [
    {
     "name": "stdout",
     "output_type": "stream",
     "text": [
      "Athens\n"
     ]
    }
   ],
   "source": [
    "public class Test {\n",
    "\n",
    "    public static void main(String[] args) {\n",
    " \n",
    "      String[][] arr = {\n",
    "         { \"Atlanta\", \"Baltimore\", \"Chicago\" },\n",
    "         { \"Australia\", \"Boston\", \"Cincinnati\" },\n",
    "         { \"Austin\", \"Beaumont\", \"Columbus\" }\n",
    "      };\n",
    " \n",
    "       // Change Austin to Athens and print!\n",
    "       arr[2][0] = \"Athens\";\n",
    "       System.out.println(arr[2][0]);\n",
    "       \n",
    "    }\n",
    " \n",
    " }\n",
    " Test.main(null);"
   ]
  },
  {
   "cell_type": "markdown",
   "metadata": {},
   "source": [
    "### Hack 3"
   ]
  },
  {
   "cell_type": "code",
   "execution_count": 26,
   "metadata": {},
   "outputs": [
    {
     "name": "stdout",
     "output_type": "stream",
     "text": [
      "Atlanta, Baltimore, Chicago, Australia, Boston, Cincinnati, Austin, Beaumont, Columbus, "
     ]
    }
   ],
   "source": [
    "public class Test {\n",
    "\n",
    "    public static void main(String[] args) {\n",
    " \n",
    "       String[][] arr = {\n",
    "          { \"Atlanta\", \"Baltimore\", \"Chicago\" },\n",
    "          { \"Australia\", \"Boston\", \"Cincinnati\" },\n",
    "          { \"Austin\", \"Beaumont\", \"Columbus\" }\n",
    "       };\n",
    " \n",
    "       // Print out the array without using numerical values!\n",
    "       int r = arr.length;\n",
    "       int c = arr[0].length;\n",
    "       \n",
    "       for (int row = 0; row < r; row++) {\n",
    "        for (int col= 0; col < c; col++){\n",
    "            System.out.print(arr[row][col] + \", \" );\n",
    "        }\n",
    "       }\n",
    "       \n",
    "    }\n",
    " \n",
    " }\n",
    " Test.main(null);"
   ]
  },
  {
   "cell_type": "markdown",
   "metadata": {},
   "source": [
    "### Hack 4"
   ]
  },
  {
   "cell_type": "code",
   "execution_count": 31,
   "metadata": {},
   "outputs": [
    {
     "name": "stdout",
     "output_type": "stream",
     "text": [
      "Cincinnati"
     ]
    }
   ],
   "source": [
    "public class Test {\n",
    "\n",
    "    public static void main(String[] args) {\n",
    "  \n",
    "        String[][] arr = {\n",
    "            { \"Atlanta\", \"Baltimore\", \"Chicago\" },\n",
    "            { \"Australia\", \"Boston\", \"Cincinnati\" },\n",
    "            { \"Austin\", \"Beaumont\", \"Columbus\" }\n",
    "        };\n",
    "\n",
    "        String longest = arr[0][0];\n",
    "\n",
    "        // Use nested for loops to find the longest or shortest string!\n",
    "        int r = arr.length;\n",
    "        int c = arr[0].length;\n",
    "        \n",
    "        for (int row = 0; row < r; row++) {\n",
    "            for (int col= 0; col < c; col++){\n",
    "               if (arr[row][col].length() > longest.length()){\n",
    "                    longest = arr[row][col];\n",
    "               }\n",
    "        }\n",
    "       }\n",
    "        System.out.print(longest);\n",
    "    }\n",
    " \n",
    " }\n",
    "Test.main(null);"
   ]
  },
  {
   "cell_type": "markdown",
   "metadata": {},
   "source": [
    "### Christmas Tree"
   ]
  },
  {
   "cell_type": "code",
   "execution_count": 45,
   "metadata": {},
   "outputs": [
    {
     "name": "stdout",
     "output_type": "stream",
     "text": [
      "   *    \n",
      "  ***   \n",
      " *****  \n",
      "******* \n",
      "   M    \n"
     ]
    }
   ],
   "source": [
    "public class Tree {\n",
    "    \n",
    "    public static void main(String args[]) {\n",
    "        String[][] tree = {\n",
    "            {\" \" ,\" \", \" \", \"*\", \" \", \" \", \" \"},\n",
    "            {\" \", \" \", \"*\", \"*\", \"*\", \" \", \" \"},\n",
    "            {\" \", \"*\", \"*\", \"*\", \"*\", \"*\", \" \"},\n",
    "            {\"*\", \"*\", \"*\", \"*\", \"*\", \"*\", \"*\"},\n",
    "            {\" \", \" \", \" \", \"M\", \" \", \" \", \" \"},\n",
    "        };\n",
    "        \n",
    "    int r = tree.length;\n",
    "    int c = tree[0].length;\n",
    "\n",
    "    for (int row = 0; row < r; row++){\n",
    "        for (int col = 0; col < c; col++){\n",
    "            System.out.print(tree[row][col]);\n",
    "        }\n",
    "        System.out.println(\" \");\n",
    "    }\n",
    "\n",
    "    }\n",
    "\n",
    "}\n",
    "\n",
    "Tree.main(null);\n"
   ]
  }
 ],
 "metadata": {
  "kernelspec": {
   "display_name": "Java",
   "language": "java",
   "name": "java"
  },
  "language_info": {
   "codemirror_mode": "java",
   "file_extension": ".jshell",
   "mimetype": "text/x-java-source",
   "name": "java",
   "pygments_lexer": "java",
   "version": "17.0.5+0"
  },
  "orig_nbformat": 4
 },
 "nbformat": 4,
 "nbformat_minor": 2
}
