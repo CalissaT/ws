{
 "cells": [
  {
   "attachments": {},
   "cell_type": "markdown",
   "metadata": {},
   "source": [
    "# AP CSA Studying\n",
    "\n",
    "- toc: false\n",
    "- badges: true\n",
    "- comments: true\n",
    "- author: Calissa"
   ]
  },
  {
   "attachments": {},
   "cell_type": "markdown",
   "metadata": {},
   "source": [
    "# Methods and Control Structures"
   ]
  },
  {
   "attachments": {},
   "cell_type": "markdown",
   "metadata": {},
   "source": [
    "### 2022 Live Review 1"
   ]
  },
  {
   "cell_type": "code",
   "execution_count": null,
   "metadata": {
    "vscode": {
     "languageId": "java"
    }
   },
   "outputs": [],
   "source": [
    "//STRUCTURE OF A CLASS\n",
    "\n",
    "//circle class\n",
    "public class Circle{\n",
    "\n",
    "    //Private instance variable w/ scope of entire class\n",
    "    private double radius;\n",
    "\n",
    "    //Constructor w/ double parameter\n",
    "    public Circle (double r){\n",
    "        /* implementation not shown */\n",
    "    }\n",
    "\n",
    "    /* Method signature\n",
    "     * - visibility modifier (usually public)\n",
    "     * - return type\n",
    "     * - name\n",
    "     * - parameter list (whats in the parenthesis)\n",
    "     */\n",
    "\n",
    "    //void does not return a value, just carries out task\n",
    "    public void adjustSize(double factor){\n",
    "        radius = radius * factor;\n",
    "    }\n",
    "\n",
    "    //return method has to include return (double)\n",
    "    public double getDiameter(){\n",
    "        return 2*radius;\n",
    "    }\n",
    "\n",
    "    //has to include return (double)\n",
    "    public double get Circumference(){\n",
    "        return 2 * radius * Math.PI;\n",
    "    }\n",
    "}"
   ]
  },
  {
   "cell_type": "code",
   "execution_count": null,
   "metadata": {
    "vscode": {
     "languageId": "java"
    }
   },
   "outputs": [],
   "source": [
    "//2021 FRQ1 WordMatch\n",
    "\n",
    "public class WordMatch{\n",
    "    //The secret string\n",
    "    private String secret;\n",
    "\n",
    "    //Constructs a WordMatch object with the given secret string of lowercase letters\n",
    "    public WordMatch(String word){\n",
    "        /* implementation not shown */\n",
    "    }\n",
    "\n",
    "    /* Returns a score for guess, as describe in part a\n",
    "     * Precondition: 0 < guess.length <= secret.length\n",
    "     */\n",
    "    public int scoreGuess(String guess){\n",
    "        int count = 0;\n",
    "        \n",
    "        //stops so that it doesn't go out of bounds\n",
    "        for (int i = 0; i < (secret.length() - guess,length()); i++){\n",
    "            //can also use .equals\n",
    "            //compares guess to substring of secret \n",
    "            if (guess == secret.substring(i,i+guess.length)){\n",
    "                count++;\n",
    "            }\n",
    "        }\n",
    "        //returns count*guess.length^2 for score\n",
    "        return count * (guess.length*guess.length);\n",
    "    }\n",
    "\n",
    "    /* Returns the better of the two guesses, as determined by scoreGuess and the rules for a \n",
    "     * tie breaker that are described in part b\n",
    "     * Precondition: guess1 and guess2 contain all lowercase letters.\n",
    "     *               guess1 is not the same as guess2\n",
    "     */\n",
    "    public String findBetterGuess(String guess1, String guess2){\n",
    "        \n",
    "        if(scoreGuess(guess1) > scoreGuess(guess2)){\n",
    "            return guess1;\n",
    "        }\n",
    "        else if (scoreGuess(guess1) < scoreGuess(guess2)){\n",
    "            return guess2;\n",
    "        }\n",
    "        //.compareTo is string method that tells relationship between two string with in value\n",
    "        //if this returns value greater than one, this mean guess1 comes after guess2\n",
    "        else if (guess1.compareTo(guess2) > 0){\n",
    "            return guess1;\n",
    "        }\n",
    "        else {\n",
    "            return guess2;\n",
    "        }\n",
    "    }\n",
    "}"
   ]
  }
 ],
 "metadata": {
  "kernelspec": {
   "display_name": "Java",
   "language": "java",
   "name": "java"
  },
  "language_info": {
   "codemirror_mode": "java",
   "file_extension": ".jshell",
   "mimetype": "text/x-java-source",
   "name": "Java",
   "pygments_lexer": "java",
   "version": "17.0.5+0"
  },
  "orig_nbformat": 4
 },
 "nbformat": 4,
 "nbformat_minor": 2
}
